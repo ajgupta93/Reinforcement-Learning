{
 "cells": [
  {
   "cell_type": "markdown",
   "metadata": {},
   "source": [
    "# Assignment 3: Policy Gradients (DDPG and REINFORCE)\n",
    "\n",
    "Name:\n",
    "\n",
    "ID:"
   ]
  },
  {
   "cell_type": "markdown",
   "metadata": {},
   "source": [
    "## Background\n",
    "This exercise requires you to solve various continous control problems in OpenAI-Gym.  \n",
    "\n",
    "DDPG is policy gradient actor critic method for continous control which is off policy. It tackles the curse of dimensionality / loss of performance faced when discretizing a continous action domain. DDPG uses similiar \"tricks\" as DQN to improve the stability of training, including a replay buffer and target networks.\n",
    "\n",
    "Furthermore, you will implement REINFORCE for discrete and continous environments, and as a bonus compare the sample efficiency and performance with DQN and DDPG.\n",
    "\n",
    "\n",
    "### DDPG paper: https://arxiv.org/pdf/1509.02971.pdf\n",
    "\n",
    "### Environments:\n",
    "\n",
    "#### InvertedPendulum-v2 environment:\n",
    "<img src=\"inverted_pendulum.png\" width=\"300\">\n",
    "\n",
    "#### Pendulum-v0 environment:\n",
    "<img src=\"pendulum.png\" width=\"300\">\n",
    "\n",
    "#### Halfcheetah-v2 environment:\n",
    "<img src=\"half_cheetah.png\" width=\"300\">\n",
    "\n"
   ]
  },
  {
   "cell_type": "markdown",
   "metadata": {},
   "source": [
    "### Setup environment for Actor Critic\n",
    "- inline plotting\n",
    "- gym\n",
    "- directory for logging videos"
   ]
  },
  {
   "cell_type": "code",
   "execution_count": 1,
   "metadata": {},
   "outputs": [],
   "source": [
    "%matplotlib inline\n",
    "import matplotlib.pyplot as plt\n",
    "import numpy as np\n",
    "import random\n",
    "import os\n",
    "import time\n",
    "\n",
    "#environment\n",
    "import gym\n",
    "\n",
    "#pytorch\n",
    "import torch\n",
    "from torch.autograd import Variable\n",
    "import torch.nn as nn\n",
    "import torch.optim as optim\n",
    "import torch.nn.functional as F"
   ]
  },
  {
   "cell_type": "markdown",
   "metadata": {},
   "source": [
    "### Implement an action normalization class:\n",
    "To train across various environments, it is useful to normalize action inputs and outputs between [-1, 1]. This class should take in actions and implement forward and reverse functions to map actions between [-1, 1] and [action_space.low, action_space.high].\n",
    "\n",
    "Using the following gym wrapper, implement this class.\n",
    "- https://github.com/openai/gym/blob/78c416ef7bc829ce55b404b6604641ba0cf47d10/gym/core.py\n",
    "- i.e. we are overriding the outputs scale of actions. "
   ]
  },
  {
   "cell_type": "code",
   "execution_count": 2,
   "metadata": {},
   "outputs": [],
   "source": [
    "class NormalizeAction(gym.ActionWrapper):\n",
    "    def _action(self, action):\n",
    "        #tanh outputs (-1,1) from tanh, need to be [action_space.low, action_space.high]\n",
    "        act_k = (self.action_space.high - self.action_space.low)/ 2.\n",
    "        act_b = (self.action_space.high + self.action_space.low)/ 2.\n",
    "        return act_k * action + act_b\n",
    "\n",
    "    def _reverse_action(self, action):\n",
    "        #reverse of that above\n",
    "        act_k_inv = 2./(self.action_space.high - self.action_space.low)\n",
    "        act_b = (self.action_space.high + self.action_space.low)/ 2.\n",
    "        return act_k_inv * (action - act_b)"
   ]
  },
  {
   "cell_type": "markdown",
   "metadata": {},
   "source": [
    "### Set up gym environment\n",
    "The code below does the following for you:\n",
    "- Wrap environment, log videos, setup CUDA variables (if GPU is available)\n",
    "- Record action and observation space dimensions\n",
    "- Fix random seed for determinisitic training"
   ]
  },
  {
   "cell_type": "code",
   "execution_count": 12,
   "metadata": {},
   "outputs": [
    {
     "name": "stderr",
     "output_type": "stream",
     "text": [
      "[2018-05-23 19:47:29,594] Making new env: HalfCheetah-v1\n",
      "[2018-05-23 19:47:29,603] Clearing 2 monitor files from previous run (because force=True was provided)\n"
     ]
    }
   ],
   "source": [
    "VISUALIZE = True\n",
    "SEED = 0\n",
    "MAX_PATH_LENGTH = 2000\n",
    "NUM_EPISODES = 12000\n",
    "GAMMA=0.99\n",
    "BATCH_SIZE = 128\n",
    "logging_interval = 50\n",
    "animate_interval = logging_interval * 5\n",
    "\n",
    "# Environments to be tested on\n",
    "#env_name = 'InvertedPendulum-v1'\n",
    "#env_name = 'Pendulum-v0'\n",
    "env_name = 'HalfCheetah-v1' \n",
    "logdir='./DDPG/'+env_name\n",
    "\n",
    "# wrap gym to save videos\n",
    "env = NormalizeAction(gym.make(env_name))\n",
    "\n",
    "if VISUALIZE:\n",
    "    if not os.path.exists(logdir):\n",
    "        os.mkdir(logdir)\n",
    "    env = gym.wrappers.Monitor(env, logdir, force=True, video_callable=lambda episode_id: episode_id%logging_interval==0)\n",
    "env._max_episode_steps = MAX_PATH_LENGTH\n",
    "\n",
    "# check observation and action space\n",
    "discrete = isinstance(env.action_space, gym.spaces.Discrete)\n",
    "obs_dim = env.observation_space.shape[0]\n",
    "act_dim = env.action_space.n if discrete else env.action_space.shape[0]\n",
    "\n",
    "if discrete:\n",
    "    print(\"This is a discrete action space, probably not the right algorithm to use\")\n",
    "\n",
    "# set random seeds\n",
    "torch.manual_seed(SEED)\n",
    "np.random.seed(SEED)\n",
    "\n",
    "# make variable types for automatic setting to GPU or CPU, depending on GPU availability\n",
    "use_cuda = torch.cuda.is_available()\n",
    "FloatTensor = torch.cuda.FloatTensor if use_cuda else torch.FloatTensor\n",
    "LongTensor = torch.cuda.LongTensor if use_cuda else torch.LongTensor\n",
    "ByteTensor = torch.cuda.ByteTensor if use_cuda else torch.ByteTensor\n",
    "Tensor = FloatTensor\n",
    "\n",
    "def to_numpy(var):\n",
    "    return var.cpu().data.numpy() if use_cuda else var.data.numpy()\n",
    "\n",
    "def to_tensor(x, volatile=False, requires_grad=True, dtype=Tensor):\n",
    "    x = torch.from_numpy(x).float()\n",
    "    x = Variable(x, requires_grad=requires_grad).type(dtype=dtype)\n",
    "    return x"
   ]
  },
  {
   "cell_type": "markdown",
   "metadata": {},
   "source": [
    "### Demonstrate your understanding of the simulation:\n",
    "For the environments mentioned above ('Pendulum-v0', 'HalfCheetah-v2', 'InvertedPendulum-v2'),\n",
    "- describe the reward system\n",
    "- describe the each state variable (observation space)\n",
    "- describe the action space\n",
    "- when is the environment considered \"solved\"?"
   ]
  },
  {
   "cell_type": "raw",
   "metadata": {},
   "source": [
    "Ans: \n",
    "\n",
    "HalfCheetah-v1\n",
    "Reward - The agent gets reward when the cheetah moves forward.\n",
    "State  - The state space is 17 dimensional. It consists of x,y coordinates and velocities, 6 joint angles and angular velocities.\n",
    "Action - It is 6 dimensional, 1 for each of the 6 joints.\n",
    "Solved - The simulation will run forever until the max-steps/max-time is reached.\n",
    "\n",
    "InvertedPendulum-v1\n",
    "Reward - The agent gets reward for each step the pole stays vertical\n",
    "State  - 4 dimensional, to accomodate base position and velocity and pole angle and angular velocity\n",
    "Action - 1 dimensional, moving left or right\n",
    "Solved - It terminates when the pole goes out of frame or falls below a certain angle, or max_steps happen\n",
    "\n",
    "Pendulum-v0\n",
    "Reward - The agent gets reward for each step to keep the pendulum vertical\n",
    "State  - 3 dimensional containing angular information about the pendulum\n",
    "Action - 1 dimensional to rotate the pendulum left or right\n",
    "Solved - It can go on forever till max-steps/max-time"
   ]
  },
  {
   "cell_type": "markdown",
   "metadata": {},
   "source": [
    "# DDPG"
   ]
  },
  {
   "cell_type": "markdown",
   "metadata": {},
   "source": [
    "### Write a weight syncing function\n",
    "In contrast to DQN, DDPG uses soft weight sychronization. At each time step following training, the actor and critic target network weights are updated to track the rollout networks. \n",
    "- target_network.weights <= target_network.weights \\* (1 - tau) + source_network.weights \\* (tau)"
   ]
  },
  {
   "cell_type": "code",
   "execution_count": 13,
   "metadata": {},
   "outputs": [],
   "source": [
    "def weightSync(target_model, source_model, tau = 0.001):\n",
    "    for parameter_target, parameter_source in zip(target_model.parameters(), source_model.parameters()):\n",
    "        parameter_target.data.copy_((1 - tau) * parameter_target.data + tau * parameter_source.data)"
   ]
  },
  {
   "cell_type": "markdown",
   "metadata": {},
   "source": [
    "### Write a Replay class that includes all the functionality of a replay buffer\n",
    "DDPG is an off policy actor-critic method and an identical replay buffer to that used for the previous assignment is applicable here as well (do not include the generate_minibatch method in your Replay class this time). Like before, your constructor for Replay should create an initial buffer of size 1000 when you instantiate it.\n",
    "\n",
    "The replay buffer should kept to some maximum size (60000), allow adding of samples and returning of samples at random from the buffer. Each sample (or experience) is formed as (state, action, reward, next_state, done). "
   ]
  },
  {
   "cell_type": "code",
   "execution_count": 14,
   "metadata": {},
   "outputs": [],
   "source": [
    "import random\n",
    "\n",
    "class Replay(object):\n",
    "    def __init__(self, max_size):\n",
    "        self.buffer = []\n",
    "        self.capacity = max_size\n",
    "        self.position = 0\n",
    "        self.initialize(init_length=1000)\n",
    "        \n",
    "    def add_experience(self, state, action, reward, next_state, done):\n",
    "        if len(self.buffer) < self.capacity:\n",
    "            self.buffer.append(None)\n",
    "        self.buffer[self.position] = (np.asarray(state), action, reward,\\\n",
    "                                      np.asarray(next_state), done)\n",
    "        self.position = (self.position+1)%self.capacity\n",
    "    \n",
    "    def initialize(self, init_length, env=env):\n",
    "        state = env.reset()\n",
    "        while True:\n",
    "            action = np.random.uniform(-1.0, 1.0, size=env.action_space.shape)\n",
    "            next_state, reward, done, _ = env.step(action)\n",
    "            self.add_experience(state, action, reward, next_state, done)\n",
    "            if done:\n",
    "                state = env.reset()\n",
    "                if len(self.buffer)>=init_length:\n",
    "                    break\n",
    "            else:\n",
    "                state = next_state\n",
    "    \n",
    "    def sample(self, batch_size):\n",
    "        states = []\n",
    "        actions = []\n",
    "        rewards = []\n",
    "        next_states = []\n",
    "        terminates = []\n",
    "        samples = random.sample(self.buffer, batch_size)\n",
    "        for state, action, reward, next_state, done in samples:\n",
    "            states.append(state)\n",
    "            actions.append(action)\n",
    "            rewards.append(reward)\n",
    "            next_states.append(next_state)\n",
    "            terminates.append(done)\n",
    "        \n",
    "        states = np.array(states, dtype=np.float).reshape(batch_size,-1)\n",
    "        actions = np.array(actions, dtype=np.float).reshape(batch_size,-1)\n",
    "        rewards = np.array(rewards, dtype=np.float).reshape(batch_size,-1)\n",
    "        next_states = np.array(next_states, dtype=np.float).reshape(batch_size,-1)\n",
    "        terminates = np.array(terminates, dtype=np.float).reshape(batch_size,-1)\n",
    "        return states, actions, rewards, next_states, terminates"
   ]
  },
  {
   "cell_type": "markdown",
   "metadata": {},
   "source": [
    "### Write an Ornstein Uhlenbeck process class for exploration noise\n",
    "The proccess is described here:\n",
    "- https://en.wikipedia.org/wiki/Ornstein–Uhlenbeck_process\n",
    "- http://math.stackexchange.com/questions/1287634/implementing-ornstein-uhlenbeck-in-matlab\n",
    "\n",
    "You should implement:\n",
    "- a step / sample method\n",
    "- reset method\n",
    "\n",
    "Use theta = 0.15, mu = 0, sigma = 0.3, dt = 0.01"
   ]
  },
  {
   "cell_type": "code",
   "execution_count": 15,
   "metadata": {},
   "outputs": [],
   "source": [
    "class OrnsteinUhlenbeckProcess(object):\n",
    "    def __init__(self, dimension, num_steps, theta=0.25, mu=0.0, sigma=0.05, dt=0.01):\n",
    "        self.theta = theta\n",
    "        self.mu = mu\n",
    "        self.sigma = sigma\n",
    "        self.dt = dt\n",
    "        self.x = np.zeros((dimension,))\n",
    "        self.iter = 0\n",
    "        self.num_steps = num_steps\n",
    "        self.dimension = dimension\n",
    "        self.min_epsilon = 0.01 # minimum exploration probability\n",
    "        self.epsilon = 1.0\n",
    "        self.decay_rate = 5.0/num_steps # exponential decay rate for exploration prob\n",
    "    \n",
    "    def sample(self):\n",
    "        self.x = self.x + self.theta*(self.mu-self.x)*self.dt + \\\n",
    "                                       self.sigma*np.sqrt(self.dt)*np.random.normal(size=self.dimension)\n",
    "        return self.epsilon*self.x\n",
    "    \n",
    "    def reset(self):\n",
    "        self.x = 0*self.x\n",
    "        self.iter += 1\n",
    "        self.epsilon = self.min_epsilon + (1.0 - self.min_epsilon)*np.exp(-self.decay_rate*self.iter)"
   ]
  },
  {
   "cell_type": "code",
   "execution_count": 16,
   "metadata": {},
   "outputs": [
    {
     "data": {
      "text/plain": [
       "[<matplotlib.lines.Line2D at 0x7efe0013bd68>]"
      ]
     },
     "execution_count": 16,
     "metadata": {},
     "output_type": "execute_result"
    },
    {
     "data": {
      "image/png": "[encoded data removed]",
      "text/plain": [
       "<Figure size 432x288 with 1 Axes>"
      ]
     },
     "metadata": {},
     "output_type": "display_data"
    }
   ],
   "source": [
    "noise = OrnsteinUhlenbeckProcess(dimension=1,num_steps=1000)\n",
    "y = np.zeros((1000))\n",
    "for i in range(1000):\n",
    "    y[i] = noise.sample()\n",
    "plt.plot(range(1000),y)"
   ]
  },
  {
   "cell_type": "markdown",
   "metadata": {},
   "source": [
    "### Write a Deep Neural Network class that creates a dense network of a desired architecture for actor and critic networks\n",
    "\n",
    "\n",
    "#### Actor\n",
    "- input and hidden layer activation function: ReLU\n",
    "\n",
    "- output activation function: Tanh\n",
    "\n",
    "- hidden_state sizes: 400\n",
    "\n",
    "- state and action sizes: variable\n",
    "\n",
    "- number of hidden layers: 2\n",
    "\n",
    "- batch normalization applied to all hidden layers\n",
    "\n",
    "- weight initialization: normal distribution with small variance. \n",
    "\n",
    "#### Critic\n",
    "- input and hidden layer activation function: ReLU\n",
    "\n",
    "- output activation function: None\n",
    "\n",
    "- hidden_state sizes: 300, 300 + action size\n",
    "\n",
    "- state and action sizes: variable\n",
    "\n",
    "- number of hidden layers: 2\n",
    "\n",
    "- batch normalization applied to all hidden layers prior to the action input\n",
    "\n",
    "- weight initialization: normal distribution with small variance.\n",
    "\n",
    "Good baselines can be found in the paper."
   ]
  },
  {
   "cell_type": "code",
   "execution_count": 17,
   "metadata": {},
   "outputs": [],
   "source": [
    "# ----------------------------------------------------\n",
    "# actor model, MLP\n",
    "# ----------------------------------------------------\n",
    "# 2 hidden layers, 400 units per layer, tanh output to bound outputs between -1 and 1\n",
    "def fanin_init(size, fanin=None):\n",
    "    fanin = fanin or size[0]\n",
    "    v = 1. / np.sqrt(fanin)\n",
    "    return torch.Tensor(size).normal_(0.0, v)\n",
    "\n",
    "class actor(nn.Module):\n",
    "    def __init__(self, input_size, output_size):\n",
    "        super(actor, self).__init__()\n",
    "        self.fc1 = nn.Linear(input_size, 400)\n",
    "        self.bn1 = nn.BatchNorm1d(400)\n",
    "        self.fc2 = nn.Linear(400, 400)\n",
    "        self.bn2 = nn.BatchNorm1d(400)\n",
    "        self.fc3 = nn.Linear(400, output_size)\n",
    "        self.init_weights()\n",
    "    \n",
    "    def init_weights(self, init_w=10e-3):\n",
    "        self.fc1.weight.data = fanin_init(self.fc1.weight.data.size())\n",
    "        self.fc2.weight.data = fanin_init(self.fc2.weight.data.size())\n",
    "        self.fc3.weight.data.normal_(0, 3e-3)\n",
    "\n",
    "    def forward(self, state):\n",
    "        out = self.fc1(state)\n",
    "        out = self.bn1(out)\n",
    "        out = F.relu(out)\n",
    "        out = self.fc2(out)\n",
    "        out = self.bn2(out)\n",
    "        out = F.relu(out)\n",
    "        action = F.tanh(self.fc3(out))\n",
    "        return action\n",
    "\n",
    "\n",
    "# ----------------------------------------------------\n",
    "# critic model, MLP\n",
    "# ----------------------------------------------------\n",
    "# 2 hidden layers, 300 units per layer, ouputs rewards therefore unbounded\n",
    "# Action not to be included until 2nd layer of critic (from paper). Make sure \n",
    "# to formulate your critic.forward() accordingly\n",
    "\n",
    "class critic(nn.Module):\n",
    "    def __init__(self, state_size, action_size, output_size):\n",
    "        super(critic, self).__init__()\n",
    "        self.fc1 = nn.Linear(state_size, 300)\n",
    "        #self.bn1 = nn.BatchNorm1d(300)\n",
    "        self.fc2 = nn.Linear(300 + action_size, 300)\n",
    "        self.fc3 = nn.Linear(300, output_size)\n",
    "        self.init_weights()\n",
    "    \n",
    "    def init_weights(self, init_w=10e-3):\n",
    "        self.fc1.weight.data = fanin_init(self.fc1.weight.data.size())\n",
    "        self.fc2.weight.data = fanin_init(self.fc2.weight.data.size())\n",
    "        self.fc3.weight.data.normal_(0, 3e-4)\n",
    "        \n",
    "    def forward(self, state, action):\n",
    "        out = self.fc1(state)\n",
    "        #out = self.bn1(out)\n",
    "        out = F.relu(out)\n",
    "        out = F.relu(self.fc2(torch.cat([out,action],1)))\n",
    "        qvalue = self.fc3(out)\n",
    "        return qvalue"
   ]
  },
  {
   "cell_type": "markdown",
   "metadata": {},
   "source": [
    "### Define DDPG class to encapsulate definition, rollouts, and training\n",
    "\n",
    "- gamma = 0.99\n",
    "\n",
    "- actor_lr = 1e-4\n",
    "\n",
    "- critic_lr = 1e-3\n",
    "\n",
    "- critic l2 regularization = 1e-2\n",
    "\n",
    "- noise decay\n",
    "\n",
    "- noise class\n",
    "\n",
    "- batch_size = 128\n",
    "\n",
    "- optimizer: Adam\n",
    "\n",
    "- loss (critic): mse\n",
    "\n",
    "Furthermore, you can experiment with action versus parameter space noise. The standard implimentation works with action space noise, howeve parameter space noise has shown to produce excellent results.\n"
   ]
  },
  {
   "cell_type": "code",
   "execution_count": 18,
   "metadata": {},
   "outputs": [],
   "source": [
    "OBS_DIM = env.observation_space.shape[0]\n",
    "ACT_DIM = env.action_space.shape[0]"
   ]
  },
  {
   "cell_type": "code",
   "execution_count": 19,
   "metadata": {},
   "outputs": [],
   "source": [
    "class DDPG:\n",
    "    def __init__(self, obs_dim, act_dim, critic_lr = 1e-3, actor_lr = 1e-4, gamma = 0.99, alpha_decay=0.93, batch_size = 64):\n",
    "        \n",
    "        self.gamma = gamma\n",
    "        self.batch_size = batch_size\n",
    "        self.obs_dim = obs_dim\n",
    "        self.act_dim = act_dim\n",
    "        \n",
    "        # actor\n",
    "        self.actor = actor(input_size = obs_dim, output_size = act_dim).type(FloatTensor)\n",
    "        self.actor.cuda()\n",
    "        self.actor_target = actor(input_size = obs_dim, output_size = act_dim).type(FloatTensor)\n",
    "        self.actor_target.cuda()\n",
    "        self.actor_target.load_state_dict(self.actor.state_dict())\n",
    "\n",
    "        # critic\n",
    "        self.critic = critic(state_size = obs_dim, action_size = act_dim, output_size = 1).type(FloatTensor)\n",
    "        self.critic.cuda()\n",
    "        self.critic_target = critic(state_size = obs_dim, action_size = act_dim, output_size = 1).type(FloatTensor)\n",
    "        self.critic_target.cuda()\n",
    "        self.critic_target.load_state_dict(self.critic.state_dict())\n",
    "\n",
    "        # optimizers\n",
    "        self.optimizer_actor = torch.optim.Adam(self.actor.parameters(), lr = actor_lr)\n",
    "        self.optimizer_critic = torch.optim.Adam(self.critic.parameters(), lr = critic_lr, weight_decay=1e-2)\n",
    "        \n",
    "        # learning rate scheduler\n",
    "        self.scheduler_actor = optim.lr_scheduler.StepLR(self.optimizer_actor, step_size=5000, gamma=alpha_decay)\n",
    "        self.scheduler_critic = optim.lr_scheduler.StepLR(self.optimizer_critic, step_size=5000, gamma=alpha_decay)\n",
    "        \n",
    "        \n",
    "        # critic loss\n",
    "        self.critic_loss = nn.MSELoss()\n",
    "        \n",
    "        # noise\n",
    "        self.noise = OrnsteinUhlenbeckProcess(dimension = act_dim, num_steps = NUM_EPISODES)\n",
    "\n",
    "        # replay buffer \n",
    "        self.replayBuffer = Replay(60000)\n",
    "        \n",
    "        \n",
    "    def train(self):\n",
    "     \n",
    "        # sample from Replay\n",
    "        states, actions, rewards, next_states, terminates = self.replayBuffer.sample(self.batch_size)\n",
    "\n",
    "        # update critic (create target for Q function)\n",
    "        target_qvalues = self.critic_target(to_tensor(next_states, volatile=True),\\\n",
    "                                           self.actor_target(to_tensor(next_states, volatile=True)))\n",
    "        #target_qvalues.volatile = False\n",
    "        y = to_numpy(to_tensor(rewards) +\\\n",
    "            self.gamma*to_tensor(1-terminates)*target_qvalues)\n",
    "\n",
    "        q_values = self.critic(to_tensor(states),\n",
    "                               to_tensor(actions))\n",
    "        qvalue_loss = self.critic_loss(q_values, to_tensor(y, requires_grad=False))\n",
    "        \n",
    "               \n",
    "        # critic optimizer and backprop step (feed in target and predicted values to self.critic_loss)\n",
    "        self.critic.zero_grad()\n",
    "        qvalue_loss.backward()\n",
    "        self.optimizer_critic.step()\n",
    "        self.scheduler_critic.step()\n",
    "        \n",
    "\n",
    "        # update actor (formulate the loss wrt which actor is updated)\n",
    "        policy_loss = -self.critic(to_tensor(states),\\\n",
    "                                 self.actor(to_tensor(states)))\n",
    "        policy_loss = policy_loss.mean()\n",
    "        \n",
    "\n",
    "        # actor optimizer and backprop step (loss_actor.backward())\n",
    "        self.actor.zero_grad()\n",
    "        policy_loss.backward()\n",
    "        self.optimizer_actor.step()\n",
    "        self.scheduler_actor.step()\n",
    "        \n",
    "        # sychronize target network with fast moving one\n",
    "        weightSync(self.critic_target, self.critic)\n",
    "        weightSync(self.actor_target, self.actor)\n",
    "        "
   ]
  },
  {
   "cell_type": "markdown",
   "metadata": {},
   "source": [
    "### Create an instance of your DDPG object\n",
    "- Print network architectures, confirm they are correct"
   ]
  },
  {
   "cell_type": "code",
   "execution_count": 20,
   "metadata": {},
   "outputs": [
    {
     "name": "stderr",
     "output_type": "stream",
     "text": [
      "[2018-05-23 19:47:33,911] Starting new video recorder writing to /datasets/home/09/409/ee276cae/Reinforcement-Learning/hw3 - Policy Gradients/DDPG/HalfCheetah-v1/openaigym.video.1.146.video000000.mp4\n"
     ]
    },
    {
     "name": "stdout",
     "output_type": "stream",
     "text": [
      "actor(\n",
      "  (fc1): Linear(in_features=17, out_features=400, bias=True)\n",
      "  (bn1): BatchNorm1d(400, eps=1e-05, momentum=0.1, affine=True, track_running_stats=True)\n",
      "  (fc2): Linear(in_features=400, out_features=400, bias=True)\n",
      "  (bn2): BatchNorm1d(400, eps=1e-05, momentum=0.1, affine=True, track_running_stats=True)\n",
      "  (fc3): Linear(in_features=400, out_features=6, bias=True)\n",
      ")\n",
      "critic(\n",
      "  (fc1): Linear(in_features=17, out_features=300, bias=True)\n",
      "  (fc2): Linear(in_features=306, out_features=300, bias=True)\n",
      "  (fc3): Linear(in_features=300, out_features=1, bias=True)\n",
      ")\n"
     ]
    }
   ],
   "source": [
    "ddpg = DDPG(obs_dim=OBS_DIM, act_dim=ACT_DIM, gamma=GAMMA, batch_size=BATCH_SIZE)\n",
    "print(ddpg.actor)\n",
    "print(ddpg.critic)"
   ]
  },
  {
   "cell_type": "markdown",
   "metadata": {},
   "source": [
    "### Train DDPG on different environments\n",
    "Early stopping conditions:\n",
    "- avg_val > 500 for \"InvertedPendulum\" \n",
    "- avg_val > -150 for \"Pendulum\" \n",
    "- avg_val > 1500 for \"HalfCheetah\" \n",
    "\n"
   ]
  },
  {
   "cell_type": "code",
   "execution_count": 21,
   "metadata": {},
   "outputs": [
    {
     "name": "stdout",
     "output_type": "stream",
     "text": [
      "1000 -427.5220172093445\n",
      "Average value: -21.376100860467226 for episode: 0\n",
      "2000 -510.96916432070884\n",
      "Average value: -45.8557540334793 for episode: 1\n",
      "3000 -505.3008051153264\n",
      "Average value: -68.82800658757165 for episode: 2\n",
      "4000 -530.0561979412972\n",
      "Average value: -91.88941615525793 for episode: 3\n",
      "5000 -521.1955441289641\n",
      "Average value: -113.35472255394323 for episode: 4\n",
      "6000 -518.1808625188688\n",
      "Average value: -133.59602955218952 for episode: 5\n",
      "7000 -585.2007165965466\n",
      "Average value: -156.17626390440736 for episode: 6\n",
      "8000 -471.29240847497135\n",
      "Average value: -171.93207113293556 for episode: 7\n",
      "9000 -475.7661690474804\n",
      "Average value: -187.1237760286628 for episode: 8\n",
      "10000 -521.8213445543764\n",
      "Average value: -203.85865445494846 for episode: 9\n",
      "11000 -458.83831557409104\n",
      "Average value: -216.6076375109056 for episode: 10\n",
      "12000 -476.7653594395515\n",
      "Average value: -229.61552360733788 for episode: 11\n",
      "13000 -518.4659420356934\n",
      "Average value: -244.05804452875563 for episode: 12\n",
      "14000 -341.6295061007451\n",
      "Average value: -248.9366176073551 for episode: 13\n",
      "15000 -430.3599322135534\n",
      "Average value: -258.007783337665 for episode: 14\n",
      "16000 -514.3288816138662\n",
      "Average value: -270.823838251475 for episode: 15\n",
      "17000 -509.9828164932308\n",
      "Average value: -282.7817871635628 for episode: 16\n",
      "18000 -548.0131201166082\n",
      "Average value: -296.04335381121507 for episode: 17\n",
      "19000 -516.4711228374583\n",
      "Average value: -307.0647422625272 for episode: 18\n",
      "20000 -524.2804640424927\n",
      "Average value: -317.92552835152543 for episode: 19\n",
      "21000 -481.4485645972371\n",
      "Average value: -326.101680163811 for episode: 20\n",
      "22000 -438.3368789628779\n",
      "Average value: -331.7134401037643 for episode: 21\n",
      "23000 -426.1736381994161\n",
      "Average value: -336.43645000854684 for episode: 22\n",
      "24000 -415.4127168290699\n",
      "Average value: -340.385263349573 for episode: 23\n",
      "25000 -470.88591916238937\n",
      "Average value: -346.9102961402138 for episode: 24\n",
      "26000 -392.64193680447426\n",
      "Average value: -349.1968781734268 for episode: 25\n",
      "27000 -422.79111094935746\n",
      "Average value: -352.8765898122233 for episode: 26\n",
      "28000 -272.46723798157416\n",
      "Average value: -348.85612222069085 for episode: 27\n",
      "29000 -363.7186681404431\n",
      "Average value: -349.59924951667847 for episode: 28\n",
      "30000 -503.3849156023683\n",
      "Average value: -357.2885328209629 for episode: 29\n",
      "31000 -477.6288310084463\n",
      "Average value: -363.3055477303371 for episode: 30\n",
      "32000 -263.3491769744424\n",
      "Average value: -358.3077291925423 for episode: 31\n",
      "33000 49.58868684654495\n",
      "Average value: -337.9129083905879 for episode: 32\n",
      "34000 -179.02079887366443\n",
      "Average value: -329.96830291474174 for episode: 33\n",
      "35000 -408.0509283499957\n",
      "Average value: -333.8724341865044 for episode: 34\n",
      "36000 -521.3412501885861\n",
      "Average value: -343.2458749866085 for episode: 35\n",
      "37000 431.78225515305866\n",
      "Average value: -304.49446847962514 for episode: 36\n",
      "38000 -74.65802495908254\n",
      "Average value: -293.002646303598 for episode: 37\n",
      "39000 411.3704169456634\n",
      "Average value: -257.7839931411349 for episode: 38\n",
      "40000 123.4295968459375\n",
      "Average value: -238.72331364178126 for episode: 39\n",
      "41000 417.8238234349594\n",
      "Average value: -205.89595678794421 for episode: 40\n",
      "42000 468.70083702566967\n",
      "Average value: -172.1661170972635 for episode: 41\n",
      "43000 569.4622277669373\n",
      "Average value: -135.08469985405347 for episode: 42\n",
      "44000 44.08293719372878\n",
      "Average value: -126.12631800166434 for episode: 43\n",
      "45000 602.2171296866892\n",
      "Average value: -89.70914561724666 for episode: 44\n",
      "46000 496.5442032353365\n",
      "Average value: -60.3964781746175 for episode: 45\n",
      "47000 631.6881024318201\n",
      "Average value: -25.792249144295617 for episode: 46\n"
     ]
    },
    {
     "name": "stderr",
     "output_type": "stream",
     "text": [
      "[2018-05-23 19:53:36,800] Starting new video recorder writing to /datasets/home/09/409/ee276cae/Reinforcement-Learning/hw3 - Policy Gradients/DDPG/HalfCheetah-v1/openaigym.video.1.146.video000050.mp4\n"
     ]
    },
    {
     "name": "stdout",
     "output_type": "stream",
     "text": [
      "48000 587.1525510967867\n",
      "Average value: 4.854990867758506 for episode: 47\n",
      "49000 556.5716544091665\n",
      "Average value: 32.44082404482891 for episode: 48\n",
      "50000 640.0406875259424\n",
      "Average value: 62.820817218884585 for episode: 49\n",
      "51000 -31.8592666852931\n",
      "Average value: 58.0868130236757 for episode: 50\n",
      "52000 656.2045272318577\n",
      "Average value: 87.9926987340848 for episode: 51\n",
      "53000 654.7143500234199\n",
      "Average value: 116.32878129855155 for episode: 52\n",
      "54000 481.3587245212271\n",
      "Average value: 134.58027845968533 for episode: 53\n",
      "55000 728.5588284012575\n",
      "Average value: 164.27920595676392 for episode: 54\n",
      "56000 775.3778396338064\n",
      "Average value: 194.83413764061604 for episode: 55\n",
      "57000 650.7172180118343\n",
      "Average value: 217.62829165917697 for episode: 56\n",
      "58000 710.3277465030286\n",
      "Average value: 242.26326440136955 for episode: 57\n",
      "59000 804.5480967166685\n",
      "Average value: 270.37750601713446 for episode: 58\n",
      "60000 783.7140889706207\n",
      "Average value: 296.0443351648088 for episode: 59\n",
      "61000 818.0433933551367\n",
      "Average value: 322.1442880743252 for episode: 60\n",
      "62000 845.093471922845\n",
      "Average value: 348.29174726675114 for episode: 61\n",
      "63000 849.3870800254149\n",
      "Average value: 373.34651390468434 for episode: 62\n",
      "64000 760.6436822855534\n",
      "Average value: 392.7113723237278 for episode: 63\n",
      "65000 951.1776613620098\n",
      "Average value: 420.6346867756419 for episode: 64\n",
      "66000 794.3725866714642\n",
      "Average value: 439.32158177043306 for episode: 65\n",
      "67000 795.910178653763\n",
      "Average value: 457.15101161459955 for episode: 66\n",
      "68000 870.9440230664842\n",
      "Average value: 477.84066218719374 for episode: 67\n",
      "69000 829.1147393087209\n",
      "Average value: 495.4043660432701 for episode: 68\n",
      "70000 859.1963244108596\n",
      "Average value: 513.5939639616496 for episode: 69\n",
      "71000 833.4514764446258\n",
      "Average value: 529.5868395857983 for episode: 70\n",
      "72000 742.7162532709309\n",
      "Average value: 540.243310270055 for episode: 71\n",
      "73000 807.6248013442442\n",
      "Average value: 553.6123848237644 for episode: 72\n",
      "74000 747.1109622929806\n",
      "Average value: 563.2873136972253 for episode: 73\n",
      "75000 777.0735714604908\n",
      "Average value: 573.9766265853885 for episode: 74\n",
      "76000 856.0791279523129\n",
      "Average value: 588.0817516537347 for episode: 75\n",
      "77000 789.4360933099724\n",
      "Average value: 598.1494687365466 for episode: 76\n",
      "78000 802.3884382770093\n",
      "Average value: 608.3614172135698 for episode: 77\n",
      "79000 812.4791329450056\n",
      "Average value: 618.5673030001415 for episode: 78\n",
      "80000 845.4814968109557\n",
      "Average value: 629.9130126906821 for episode: 79\n",
      "81000 829.5690365889639\n",
      "Average value: 639.8958138855961 for episode: 80\n",
      "82000 932.7336396087342\n",
      "Average value: 654.537705171753 for episode: 81\n",
      "83000 782.0304608812485\n",
      "Average value: 660.9123429572278 for episode: 82\n",
      "84000 864.9187400620623\n",
      "Average value: 671.1126628124695 for episode: 83\n",
      "85000 874.6430206028039\n",
      "Average value: 681.2891807019862 for episode: 84\n",
      "86000 892.026065561073\n",
      "Average value: 691.8260249449404 for episode: 85\n",
      "87000 899.6045841564709\n",
      "Average value: 702.2149529055168 for episode: 86\n",
      "88000 871.494104227862\n",
      "Average value: 710.678910471634 for episode: 87\n",
      "89000 944.6921395488093\n",
      "Average value: 722.3795719254928 for episode: 88\n",
      "90000 852.7911481282226\n",
      "Average value: 728.9001507356292 for episode: 89\n",
      "91000 889.1893336850555\n",
      "Average value: 736.9146098831004 for episode: 90\n",
      "92000 804.1117535076664\n",
      "Average value: 740.2744670643286 for episode: 91\n",
      "93000 837.772733480676\n",
      "Average value: 745.149380385146 for episode: 92\n",
      "94000 864.480603986773\n",
      "Average value: 751.1159415652273 for episode: 93\n",
      "95000 906.8616582480241\n",
      "Average value: 758.9032273993671 for episode: 94\n",
      "96000 896.7742321935074\n",
      "Average value: 765.7967776390741 for episode: 95\n",
      "97000 963.526905809259\n",
      "Average value: 775.6832840475832 for episode: 96\n"
     ]
    },
    {
     "name": "stderr",
     "output_type": "stream",
     "text": [
      "[2018-05-23 19:58:51,905] Starting new video recorder writing to /datasets/home/09/409/ee276cae/Reinforcement-Learning/hw3 - Policy Gradients/DDPG/HalfCheetah-v1/openaigym.video.1.146.video000100.mp4\n"
     ]
    },
    {
     "name": "stdout",
     "output_type": "stream",
     "text": [
      "98000 904.2045671047891\n",
      "Average value: 782.1093482004435 for episode: 97\n",
      "99000 1023.7333172549371\n",
      "Average value: 794.1905466531681 for episode: 98\n",
      "100000 1082.3995749426508\n",
      "Average value: 808.6009980676422 for episode: 99\n",
      "101000 1208.579984937209\n",
      "Average value: 828.5999474111205 for episode: 100\n",
      "102000 1150.2766652006167\n",
      "Average value: 844.6837833005953 for episode: 101\n",
      "103000 1056.0994336547062\n",
      "Average value: 855.2545658183009 for episode: 102\n",
      "104000 1256.4473919115228\n",
      "Average value: 875.3142071229619 for episode: 103\n",
      "105000 1110.3861066106615\n",
      "Average value: 887.0678020973468 for episode: 104\n",
      "106000 -191.86554253301662\n",
      "Average value: 833.1211348658286 for episode: 105\n",
      "107000 865.0075277365416\n",
      "Average value: 834.7154545093641 for episode: 106\n",
      "108000 670.4496498649645\n",
      "Average value: 826.5021642771442 for episode: 107\n",
      "109000 1099.906174760788\n",
      "Average value: 840.1723648013264 for episode: 108\n",
      "110000 683.274017312503\n",
      "Average value: 832.3274474268852 for episode: 109\n",
      "111000 1176.9799376725368\n",
      "Average value: 849.5600719391678 for episode: 110\n",
      "112000 1052.5141489547666\n",
      "Average value: 859.7077757899477 for episode: 111\n",
      "113000 1161.883943383343\n",
      "Average value: 874.8165841696175 for episode: 112\n",
      "114000 1221.466776054925\n",
      "Average value: 892.1490937638828 for episode: 113\n",
      "115000 1208.3290443715712\n",
      "Average value: 907.9580912942672 for episode: 114\n",
      "116000 1144.5213651417625\n",
      "Average value: 919.786254986642 for episode: 115\n",
      "117000 1134.9419456667608\n",
      "Average value: 930.5440395206479 for episode: 116\n",
      "118000 1090.9970449630005\n",
      "Average value: 938.5666897927655 for episode: 117\n",
      "119000 1088.7567982831747\n",
      "Average value: 946.0761952172859 for episode: 118\n",
      "120000 1078.1227077364686\n",
      "Average value: 952.678520843245 for episode: 119\n",
      "121000 1222.7954143518953\n",
      "Average value: 966.1843655186774 for episode: 120\n",
      "122000 1161.6229766434976\n",
      "Average value: 975.9562960749184 for episode: 121\n",
      "123000 361.6336183238304\n",
      "Average value: 945.240162187364 for episode: 122\n",
      "124000 1108.818537499866\n",
      "Average value: 953.4190809529891 for episode: 123\n",
      "125000 1278.0328575416697\n",
      "Average value: 969.6497697824232 for episode: 124\n",
      "126000 1248.9005113235146\n",
      "Average value: 983.6123068594777 for episode: 125\n",
      "127000 1142.6271734926197\n",
      "Average value: 991.5630501911347 for episode: 126\n",
      "128000 1081.6101329266683\n",
      "Average value: 996.0654043279114 for episode: 127\n",
      "129000 1060.690273182258\n",
      "Average value: 999.2966477706287 for episode: 128\n",
      "130000 1288.5264174421793\n",
      "Average value: 1013.7581362542062 for episode: 129\n",
      "131000 1209.7574125565782\n",
      "Average value: 1023.5581000693247 for episode: 130\n",
      "132000 1409.1750235309642\n",
      "Average value: 1042.8389462424066 for episode: 131\n",
      "133000 1245.4558155756213\n",
      "Average value: 1052.9697897090673 for episode: 132\n",
      "134000 1151.4807215045719\n",
      "Average value: 1057.8953362988425 for episode: 133\n",
      "135000 1331.082188859795\n",
      "Average value: 1071.5546789268901 for episode: 134\n",
      "136000 1240.690824336809\n",
      "Average value: 1080.011486197386 for episode: 135\n",
      "137000 1313.815295427755\n",
      "Average value: 1091.7016766589043 for episode: 136\n",
      "138000 1216.3649925860236\n",
      "Average value: 1097.9348424552602 for episode: 137\n",
      "139000 1296.164298357984\n",
      "Average value: 1107.8463152503964 for episode: 138\n",
      "140000 1424.1777637047517\n",
      "Average value: 1123.662887673114 for episode: 139\n",
      "141000 1503.6873563963838\n",
      "Average value: 1142.6641111092777 for episode: 140\n",
      "142000 1388.3864933969842\n",
      "Average value: 1154.9502302236629 for episode: 141\n",
      "143000 1490.018971790309\n",
      "Average value: 1171.7036673019952 for episode: 142\n",
      "144000 1611.5632566887666\n",
      "Average value: 1193.6966467713337 for episode: 143\n",
      "145000 1506.394017660014\n",
      "Average value: 1209.3315153157675 for episode: 144\n",
      "146000 1512.844608042573\n",
      "Average value: 1224.507169952108 for episode: 145\n",
      "147000 1521.0883076975585\n",
      "Average value: 1239.3362268393805 for episode: 146\n"
     ]
    },
    {
     "name": "stderr",
     "output_type": "stream",
     "text": [
      "[2018-05-23 20:04:02,878] Starting new video recorder writing to /datasets/home/09/409/ee276cae/Reinforcement-Learning/hw3 - Policy Gradients/DDPG/HalfCheetah-v1/openaigym.video.1.146.video000150.mp4\n"
     ]
    },
    {
     "name": "stdout",
     "output_type": "stream",
     "text": [
      "148000 1612.7756932969812\n",
      "Average value: 1258.0082001622604 for episode: 147\n",
      "149000 1435.1831163574434\n",
      "Average value: 1266.8669459720195 for episode: 148\n",
      "150000 100.89585360919459\n",
      "Average value: 1208.5683913538783 for episode: 149\n",
      "151000 1533.6262699337399\n",
      "Average value: 1224.8212852828713 for episode: 150\n",
      "152000 1613.0221425424609\n",
      "Average value: 1244.2313281458505 for episode: 151\n",
      "153000 1244.6457015382111\n",
      "Average value: 1244.2520468154685 for episode: 152\n",
      "154000 165.82515891603234\n",
      "Average value: 1190.3307024204967 for episode: 153\n",
      "155000 284.61018057984387\n",
      "Average value: 1145.044676328464 for episode: 154\n",
      "156000 1693.58301122758\n",
      "Average value: 1172.4715930734196 for episode: 155\n",
      "157000 1664.6050935236901\n",
      "Average value: 1197.0782680959333 for episode: 156\n",
      "158000 1709.0159061122242\n",
      "Average value: 1222.6751499967477 for episode: 157\n",
      "159000 1763.3469369836712\n",
      "Average value: 1249.7087393460938 for episode: 158\n",
      "160000 1779.874324140517\n",
      "Average value: 1276.217018585815 for episode: 159\n",
      "161000 1754.1901263750735\n",
      "Average value: 1300.1156739752778 for episode: 160\n",
      "162000 1775.0974389876837\n",
      "Average value: 1323.864762225898 for episode: 161\n",
      "163000 1819.7168287499055\n",
      "Average value: 1348.6573655520983 for episode: 162\n",
      "164000 1814.4853945292748\n",
      "Average value: 1371.948767000957 for episode: 163\n",
      "165000 1716.761532431184\n",
      "Average value: 1389.1894052724683 for episode: 164\n",
      "166000 1788.4861661886098\n",
      "Average value: 1409.1542433182753 for episode: 165\n",
      "167000 1673.2564803671053\n",
      "Average value: 1422.3593551707168 for episode: 166\n",
      "168000 1564.1110054384837\n",
      "Average value: 1429.446937684105 for episode: 167\n",
      "169000 1717.1158923968358\n",
      "Average value: 1443.8303854197416 for episode: 168\n",
      "170000 1711.9075381978032\n",
      "Average value: 1457.2342430586446 for episode: 169\n",
      "171000 1642.15060629895\n",
      "Average value: 1466.4800612206598 for episode: 170\n",
      "172000 1862.856358854636\n",
      "Average value: 1486.2988761023587 for episode: 171\n",
      "173000 1675.0525308827357\n",
      "Average value: 1495.7365588413775 for episode: 172\n",
      "174000 1768.1663346504474\n",
      "Average value: 1509.358047631831 for episode: 173\n",
      "175000 1671.1684400931883\n",
      "Average value: 1517.4485672548988 for episode: 174\n",
      "176000 1751.7375469005556\n",
      "Average value: 1529.1630162371814 for episode: 175\n",
      "177000 1734.9873778706833\n",
      "Average value: 1539.4542343188564 for episode: 176\n",
      "178000 1722.8486013014585\n",
      "Average value: 1548.6239526679863 for episode: 177\n",
      "179000 1662.7916136883875\n",
      "Average value: 1554.3323357190063 for episode: 178\n",
      "180000 1812.3729662218595\n",
      "Average value: 1567.2343672441489 for episode: 179\n",
      "181000 1739.6660881443233\n",
      "Average value: 1575.8559532891575 for episode: 180\n",
      "182000 1701.4831826080263\n",
      "Average value: 1582.1373147551008 for episode: 181\n",
      "183000 1713.0596414406082\n",
      "Average value: 1588.6834310893762 for episode: 182\n",
      "184000 1741.5922583215724\n",
      "Average value: 1596.328872450986 for episode: 183\n",
      "185000 1751.4875865331917\n",
      "Average value: 1604.0868081550962 for episode: 184\n",
      "186000 1839.3380709538937\n",
      "Average value: 1615.849371295036 for episode: 185\n",
      "187000 1750.694436246703\n",
      "Average value: 1622.5916245426192 for episode: 186\n",
      "188000 1723.2842823047592\n",
      "Average value: 1627.6262574307261 for episode: 187\n",
      "189000 1856.538144125803\n",
      "Average value: 1639.0718517654798 for episode: 188\n",
      "190000 1718.1917792031911\n",
      "Average value: 1643.0278481373653 for episode: 189\n",
      "191000 1642.3641136746537\n",
      "Average value: 1642.9946614142295 for episode: 190\n",
      "192000 1716.791592538062\n",
      "Average value: 1646.684507970421 for episode: 191\n",
      "193000 1598.4020641543343\n",
      "Average value: 1644.2703857796166 for episode: 192\n",
      "194000 1815.0815393637097\n",
      "Average value: 1652.8109434588212 for episode: 193\n",
      "195000 1607.9770351186924\n",
      "Average value: 1650.5692480418147 for episode: 194\n",
      "196000 1785.5084813716019\n",
      "Average value: 1657.316209708304 for episode: 195\n",
      "197000 1693.8487190972412\n",
      "Average value: 1659.1428351777508 for episode: 196\n"
     ]
    },
    {
     "name": "stderr",
     "output_type": "stream",
     "text": [
      "[2018-05-23 20:09:06,894] Starting new video recorder writing to /datasets/home/09/409/ee276cae/Reinforcement-Learning/hw3 - Policy Gradients/DDPG/HalfCheetah-v1/openaigym.video.1.146.video000200.mp4\n"
     ]
    },
    {
     "name": "stdout",
     "output_type": "stream",
     "text": [
      "198000 1765.3413394065951\n",
      "Average value: 1664.452760389193 for episode: 197\n",
      "199000 1801.087786999162\n",
      "Average value: 1671.2845117196912 for episode: 198\n",
      "200000 1798.5839677893384\n",
      "Average value: 1677.6494845231737 for episode: 199\n",
      "201000 1712.0424921165861\n",
      "Average value: 1679.369134902844 for episode: 200\n",
      "202000 1874.6978648615388\n"
     ]
    }
   ],
   "source": [
    "avg_val = 0\n",
    "\n",
    "#for plotting\n",
    "running_rewards_ddpg = []\n",
    "step_list_ddpg = []\n",
    "step_counter = 0\n",
    "\n",
    "# set term_condition for early stopping according to environment being used\n",
    "term_condition = 1500 # Pendulum\n",
    "\n",
    "reached = False\n",
    "\n",
    "for itr in range(NUM_EPISODES):\n",
    "    state = env.reset() # get initial state\n",
    "    animate_this_episode = (itr % animate_interval == 0) and VISUALIZE\n",
    "    ddpg.noise.reset()\n",
    "    step = 0\n",
    "    total_reward = 0\n",
    "\n",
    "    while True:\n",
    "        if animate_this_episode:\n",
    "                env.render()\n",
    "                time.sleep(0.05)\n",
    "\n",
    "        # use actor to get action, add ddpg.noise.step() to action\n",
    "        # remember to put NN in eval mode while testing (to deal with BatchNorm layers) and put it back \n",
    "        # to train mode after you're done getting the action\n",
    "        ddpg.actor.eval()\n",
    "        state = state.reshape(1,-1)\n",
    "        noise = ddpg.noise.sample()\n",
    "        action = to_numpy(ddpg.actor(to_tensor(state))).reshape(-1,) + noise\n",
    "        if not reached:\n",
    "            ddpg.actor.train()\n",
    "                \n",
    "        # step action, get next state, reward, done (keep track of total_reward)\n",
    "        # populate ddpg.replayBuffer\n",
    "        next_state, reward, done, _ = env.step(action)\n",
    "        ddpg.replayBuffer.add_experience(state.ravel(), action, reward, next_state, done)\n",
    "        total_reward += reward\n",
    "\n",
    "        ddpg.train()\n",
    "        step_counter += 1\n",
    "        \n",
    "        if done:\n",
    "            break\n",
    "\n",
    "        state = next_state\n",
    "        step+=1\n",
    "    \n",
    "    print(step_counter, total_reward)\n",
    "\n",
    "    if avg_val > term_condition and itr>10:\n",
    "        reached = True\n",
    "    \n",
    "    if reached and itr%logging_interval==1:\n",
    "        break\n",
    "\n",
    "    running_rewards_ddpg.append(total_reward) # return of this episode\n",
    "    step_list_ddpg.append(step_counter)\n",
    "\n",
    "    avg_val = avg_val * 0.95 + 0.05*running_rewards_ddpg[-1]\n",
    "    print(\"Average value: {} for episode: {}\".format(avg_val,itr))\n",
    "    itr+=1\n"
   ]
  },
  {
   "cell_type": "markdown",
   "metadata": {},
   "source": [
    "## Plot rewards over multiple training runs \n",
    "This is provided to generate and plot results for you."
   ]
  },
  {
   "cell_type": "code",
   "execution_count": 30,
   "metadata": {},
   "outputs": [
    {
     "name": "stderr",
     "output_type": "stream",
     "text": [
      "[2018-05-23 20:50:16,390] Finished writing results. You can upload them to the scoreboard via gym.upload('/datasets/home/09/409/ee276cae/Reinforcement-Learning/hw3 - Policy Gradients/DDPG/HalfCheetah-v1')\n"
     ]
    },
    {
     "data": {
      "image/png": "[encoded data removed]",
      "text/plain": [
       "<Figure size 432x288 with 1 Axes>"
      ]
     },
     "metadata": {},
     "output_type": "display_data"
    }
   ],
   "source": [
    "def numpy_ewma_vectorized_v2(data, window):\n",
    "\n",
    "    alpha = 2 /(window + 1.0)\n",
    "    alpha_rev = 1-alpha\n",
    "    n = data.shape[0]\n",
    "\n",
    "    pows = alpha_rev**(np.arange(n+1))\n",
    "\n",
    "    scale_arr = 1/pows[:-1]\n",
    "    offset = data[0]*pows[1:]\n",
    "    pw0 = alpha*alpha_rev**(n-1)\n",
    "\n",
    "    mult = data*pw0*scale_arr\n",
    "    cumsums = mult.cumsum()\n",
    "    out = offset + cumsums*scale_arr[::-1]\n",
    "    return out\n",
    "\n",
    "plt.figure()\n",
    "out = numpy_ewma_vectorized_v2(np.array(running_rewards_ddpg),20)\n",
    "step_list_ddpg = np.array(step_list_ddpg)\n",
    "\n",
    "plt.plot(step_list_ddpg, out)\n",
    "plt.title('Training reward over multiple runs')\n",
    "plt.xlabel('Number of steps')\n",
    "plt.ylabel('Cumulative reward')\n",
    "plt.show()"
   ]
  },
  {
   "cell_type": "markdown",
   "metadata": {},
   "source": [
    "# REINFORCE\n",
    "\n",
    "In this section you will implement REINFORCE, with modifications for batch training. It will be for use on both discrete and continous action spaces."
   ]
  },
  {
   "cell_type": "markdown",
   "metadata": {},
   "source": [
    "## Policy Parametrization\n",
    "\n",
    "Define a MLP which outputs a distribution over the action preferences given input state. For the discrete case, the MLP outputs the likelihood of each action (softmax) while for the continuous case, the output is the mean and standard deviation parametrizing the normal distribution from which the action is sampled.\n",
    "\n"
   ]
  },
  {
   "cell_type": "code",
   "execution_count": 53,
   "metadata": {},
   "outputs": [],
   "source": [
    "# ----------------------------------------------------\n",
    "# Policy parametrizing model, MLP\n",
    "# ----------------------------------------------------\n",
    "# 1 or 2 hidden layers with a small number of units per layer (similar to DQN)\n",
    "# use ReLU for hidden layer activations\n",
    "# softmax as activation for output if discrete actions, linear for continuous control\n",
    "# for the continuous case, output_dim=2*act_dim (each act_dim gets a mean and std_dev)\n",
    "def fanin_init(size, fanin=None):\n",
    "    fanin = fanin or size[0]\n",
    "    v = 1. / np.sqrt(fanin)\n",
    "    return torch.Tensor(size).normal_(0.0, v)\n",
    "\n",
    "class mlp(nn.Module):\n",
    "    def __init__(self, discrete, input_size, output_size):\n",
    "        super(mlp, self).__init__()\n",
    "        self.discrete = discrete\n",
    "        self.fc1 = nn.Linear(input_size, 128)\n",
    "        self.fc2 = nn.Linear(128, 128)\n",
    "        if discrete:\n",
    "            self.fc3 = nn.Linear(128, output_size)\n",
    "        else:\n",
    "            self.fc3 = nn.Linear(128, 2*output_size)\n",
    "            \n",
    "        self.init_weights()\n",
    "        self.optimizer = torch.optim.Adam(self.parameters(), lr = learning_rate)\n",
    "    \n",
    "    def init_weights(self, init_w=10e-3):\n",
    "        self.fc1.weight.data = fanin_init(self.fc1.weight.data.size())\n",
    "        self.fc2.weight.data = fanin_init(self.fc2.weight.data.size())\n",
    "        self.fc3.weight.data.normal_(0, 3e-3)            \n",
    "        \n",
    "    def forward(self, x):\n",
    "        out = F.relu(self.fc1(x))\n",
    "        out = F.relu(self.fc2(out))\n",
    "        if discrete:\n",
    "            out = F.softmax(self.fc3(out), dim=0)\n",
    "        else:\n",
    "            out = self.fc3(out)\n",
    "        return out"
   ]
  },
  {
   "cell_type": "markdown",
   "metadata": {},
   "source": [
    "Define a function that samples an action from the policy distribtion parameters obtained as output of the MLP. The function should return the action and the log-probability (log_odds) of taking that action. "
   ]
  },
  {
   "cell_type": "code",
   "execution_count": 54,
   "metadata": {},
   "outputs": [],
   "source": [
    "def sample_action(logit, discrete, env):\n",
    "    # logit is the output of the softmax/linear layer\n",
    "    # discrete is a flag for the environment type\n",
    "    # Hint: use Categorical and Normal from torch.distributions to sample action and get the log-probability\n",
    "    # Note that log_probability in this case translates to ln(\\pi(a|s)) \n",
    "    if discrete:\n",
    "        dist = torch.distributions.Categorical(logit)\n",
    "    else:\n",
    "        l = logit.shape[0]//2\n",
    "        Sigma = F.sigmoid(logit[l:]) * to_tensor(env.action_space.high - env.action_space.low)\n",
    "        #dist = torch.distributions.Normal(logit[:l], Sigma)\n",
    "        dist = torch.distributions.Normal(logit[:l], F.softplus(logit[l:]))\n",
    "    action = dist.sample()\n",
    "    log_prob = dist.log_prob(action)\n",
    "    return action.cpu().data.numpy(), log_prob\n"
   ]
  },
  {
   "cell_type": "markdown",
   "metadata": {},
   "source": [
    "Create a function update_policy that defines the loss function and updates the MLP according to the REINFORCE update rule (ref. slide 24 of Lec 7 or page 330 of Sutton and Barto (2018)). The update algorithm to be used below is slightly different: instead of updating the network at every time-step, we take the gradient of the loss averaged over a batch of timesteps (this is to make SGD more stable). We also use a baseline to reduce variance. \n",
    "\n",
    "The discount factor is set as 1 here. \n"
   ]
  },
  {
   "cell_type": "code",
   "execution_count": 55,
   "metadata": {},
   "outputs": [],
   "source": [
    "def update_policy(paths, net):\n",
    "    # paths: a list of paths (complete episodes, used to calculate return at each time step)\n",
    "    # net: MLP object\n",
    "\n",
    "    policy_loss = to_tensor(np.zeros((len(paths))))\n",
    "    \n",
    "    for i,path in enumerate(paths):\n",
    "        reward = to_tensor(path['reward'])\n",
    "        \n",
    "        revIdx = np.array([idx for idx in range(reward.shape[0]-1,-1,-1)])\n",
    "        \n",
    "        revIdx = to_tensor(revIdx, dtype=LongTensor)\n",
    "        inverted_reward = reward.index_select(0, revIdx)\n",
    "        inverted_reward = torch.cumsum(inverted_reward, dim=0)\n",
    "        rews_cum = inverted_reward.index_select(0, revIdx)\n",
    "        rews_cum = (rews_cum - rews_cum.mean()) / (rews_cum.std() + 1e-5) # create baseline\n",
    "        \n",
    "        log_prob = path['log_probs']\n",
    "        policy_loss[i] = torch.matmul(-rews_cum,log_prob).sum()\n",
    "        # log_probs should record log_odds obtained at each timestep of path\n",
    "         \n",
    "        # calculated as \"reward to go\"\n",
    "\n",
    "    # make log_probs, rew_cums each a vector\n",
    "        \n",
    "    # calculate policy loss and average over paths\n",
    "    policy_loss = policy_loss.mean()\n",
    "    \n",
    "    # take optimizer step\n",
    "    net.optimizer.zero_grad()\n",
    "    policy_loss.backward()\n",
    "    net.optimizer.step()"
   ]
  },
  {
   "cell_type": "markdown",
   "metadata": {},
   "source": [
    "Set up environment and instantiate objects. Your algorithm is to be tested on one discrete and two continuous environments. \n",
    "\n"
   ]
  },
  {
   "cell_type": "code",
   "execution_count": 56,
   "metadata": {},
   "outputs": [
    {
     "name": "stderr",
     "output_type": "stream",
     "text": [
      "[2018-05-23 21:08:40,989] Making new env: CartPole-v0\n",
      "[2018-05-23 21:08:41,101] Finished writing results. You can upload them to the scoreboard via gym.upload('/datasets/home/09/409/ee276cae/Reinforcement-Learning/hw3 - Policy Gradients/DQN/CartPole-v0')\n",
      "[2018-05-23 21:08:41,109] Clearing 86 monitor files from previous run (because force=True was provided)\n"
     ]
    },
    {
     "data": {
      "text/plain": [
       "mlp(\n",
       "  (fc1): Linear(in_features=4, out_features=128, bias=True)\n",
       "  (fc2): Linear(in_features=128, out_features=128, bias=True)\n",
       "  (fc3): Linear(in_features=128, out_features=2, bias=True)\n",
       ")"
      ]
     },
     "execution_count": 56,
     "metadata": {},
     "output_type": "execute_result"
    }
   ],
   "source": [
    "min_timesteps_per_batch = 2000  # sets the batch size for updating network\n",
    "logging_interval = 100\n",
    "animate_interval = logging_interval * 1\n",
    "\n",
    "# Select Environment\n",
    "\n",
    "#discrete environment:\n",
    "env_name='CartPole-v0'\n",
    "\n",
    "#continous environments:\n",
    "#env_name='InvertedPendulum-v1'\n",
    "#env_name = 'HalfCheetah-v1'\n",
    "\n",
    "#env_name='InvertedPendulum-v1'\n",
    "\n",
    "# Make the gym environment\n",
    "env = gym.make(env_name)\n",
    "visualize = True\n",
    "animate=False\n",
    "\n",
    "learning_rate = 1e-3\n",
    "\n",
    "max_path_length=1000\n",
    "env._max_episode_steps = max_path_length\n",
    "\n",
    "\n",
    "# Set random seeds\n",
    "seed=0\n",
    "torch.manual_seed(seed)\n",
    "np.random.seed(seed)\n",
    "\n",
    "# Saving parameters\n",
    "logdir='./REINFORCE/'+env_name\n",
    "\n",
    "\n",
    "if visualize:\n",
    "    if not os.path.exists(logdir):\n",
    "        os.mkdir(logdir)\n",
    "    env = gym.wrappers.Monitor(env, logdir, force=True, video_callable=lambda episode_id: episode_id%animate_interval==0)\n",
    "env._max_episode_steps = min_timesteps_per_batch\n",
    "\n",
    "\n",
    "# Is this env continuous, or discrete?\n",
    "discrete = isinstance(env.action_space, gym.spaces.Discrete)\n",
    "\n",
    "# Get observation and action space dimensions\n",
    "obs_dim = env.observation_space.shape[0]\n",
    "act_dim = env.action_space.n if discrete else env.action_space.shape[0]\n",
    "\n",
    "# Maximum length for episodes\n",
    "max_path_length = max_path_length or env.spec.max_episode_steps\n",
    "\n",
    "# Make network object (remember to pass in appropriate flags for the type of action space in use)\n",
    "net = mlp(discrete, obs_dim, act_dim)\n",
    "net.cuda()"
   ]
  },
  {
   "cell_type": "code",
   "execution_count": 57,
   "metadata": {},
   "outputs": [],
   "source": [
    "f1_in = net.fc1.weight.cpu().data.numpy()\n",
    "f2_in = net.fc2.weight.cpu().data.numpy()\n",
    "f3_in = net.fc3.weight.cpu().data.numpy()"
   ]
  },
  {
   "cell_type": "markdown",
   "metadata": {},
   "source": [
    "## Run REINFORCE\n",
    "\n",
    "Run REINFORCE for CartPole, InvertedPendulum, and HalfCheetah. "
   ]
  },
  {
   "cell_type": "code",
   "execution_count": 58,
   "metadata": {},
   "outputs": [
    {
     "name": "stderr",
     "output_type": "stream",
     "text": [
      "[2018-05-23 21:08:45,064] Starting new video recorder writing to /datasets/home/09/409/ee276cae/Reinforcement-Learning/hw3 - Policy Gradients/REINFORCE/CartPole-v0/openaigym.video.6.146.video000000.mp4\n",
      "[2018-05-23 21:10:32,793] Starting new video recorder writing to /datasets/home/09/409/ee276cae/Reinforcement-Learning/hw3 - Policy Gradients/REINFORCE/CartPole-v0/openaigym.video.6.146.video000100.mp4\n"
     ]
    },
    {
     "name": "stdout",
     "output_type": "stream",
     "text": [
      "Average reward: 13.0\n",
      "Average reward: 13.4\n"
     ]
    },
    {
     "name": "stderr",
     "output_type": "stream",
     "text": [
      "[2018-05-23 21:10:34,915] Starting new video recorder writing to /datasets/home/09/409/ee276cae/Reinforcement-Learning/hw3 - Policy Gradients/REINFORCE/CartPole-v0/openaigym.video.6.146.video000200.mp4\n"
     ]
    },
    {
     "name": "stdout",
     "output_type": "stream",
     "text": [
      "Average reward: 15.43\n"
     ]
    },
    {
     "name": "stderr",
     "output_type": "stream",
     "text": [
      "[2018-05-23 21:10:37,409] Starting new video recorder writing to /datasets/home/09/409/ee276cae/Reinforcement-Learning/hw3 - Policy Gradients/REINFORCE/CartPole-v0/openaigym.video.6.146.video000300.mp4\n"
     ]
    },
    {
     "name": "stdout",
     "output_type": "stream",
     "text": [
      "Average reward: 15.558499999999999\n"
     ]
    },
    {
     "name": "stderr",
     "output_type": "stream",
     "text": [
      "[2018-05-23 21:10:39,597] Starting new video recorder writing to /datasets/home/09/409/ee276cae/Reinforcement-Learning/hw3 - Policy Gradients/REINFORCE/CartPole-v0/openaigym.video.6.146.video000400.mp4\n"
     ]
    },
    {
     "name": "stdout",
     "output_type": "stream",
     "text": [
      "Average reward: 18.430574999999997\n"
     ]
    },
    {
     "name": "stderr",
     "output_type": "stream",
     "text": [
      "[2018-05-23 21:10:41,702] Starting new video recorder writing to /datasets/home/09/409/ee276cae/Reinforcement-Learning/hw3 - Policy Gradients/REINFORCE/CartPole-v0/openaigym.video.6.146.video000500.mp4\n"
     ]
    },
    {
     "name": "stdout",
     "output_type": "stream",
     "text": [
      "Average reward: 19.409046249999996\n"
     ]
    },
    {
     "name": "stderr",
     "output_type": "stream",
     "text": [
      "[2018-05-23 21:10:44,260] Starting new video recorder writing to /datasets/home/09/409/ee276cae/Reinforcement-Learning/hw3 - Policy Gradients/REINFORCE/CartPole-v0/openaigym.video.6.146.video000600.mp4\n"
     ]
    },
    {
     "name": "stdout",
     "output_type": "stream",
     "text": [
      "Average reward: 20.388593937499994\n"
     ]
    },
    {
     "name": "stderr",
     "output_type": "stream",
     "text": [
      "[2018-05-23 21:10:47,247] Starting new video recorder writing to /datasets/home/09/409/ee276cae/Reinforcement-Learning/hw3 - Policy Gradients/REINFORCE/CartPole-v0/openaigym.video.6.146.video000700.mp4\n"
     ]
    },
    {
     "name": "stdout",
     "output_type": "stream",
     "text": [
      "Average reward: 20.069164240624993\n",
      "Average reward: 19.865706028593742\n"
     ]
    },
    {
     "name": "stderr",
     "output_type": "stream",
     "text": [
      "[2018-05-23 21:10:49,586] Starting new video recorder writing to /datasets/home/09/409/ee276cae/Reinforcement-Learning/hw3 - Policy Gradients/REINFORCE/CartPole-v0/openaigym.video.6.146.video000800.mp4\n"
     ]
    },
    {
     "name": "stdout",
     "output_type": "stream",
     "text": [
      "Average reward: 19.872420727164055\n"
     ]
    },
    {
     "name": "stderr",
     "output_type": "stream",
     "text": [
      "[2018-05-23 21:10:51,969] Starting new video recorder writing to /datasets/home/09/409/ee276cae/Reinforcement-Learning/hw3 - Policy Gradients/REINFORCE/CartPole-v0/openaigym.video.6.146.video000900.mp4\n"
     ]
    },
    {
     "name": "stdout",
     "output_type": "stream",
     "text": [
      "Average reward: 23.32879969080585\n"
     ]
    },
    {
     "name": "stderr",
     "output_type": "stream",
     "text": [
      "[2018-05-23 21:10:54,166] Starting new video recorder writing to /datasets/home/09/409/ee276cae/Reinforcement-Learning/hw3 - Policy Gradients/REINFORCE/CartPole-v0/openaigym.video.6.146.video001000.mp4\n"
     ]
    },
    {
     "name": "stdout",
     "output_type": "stream",
     "text": [
      "Average reward: 24.76235970626556\n"
     ]
    },
    {
     "name": "stderr",
     "output_type": "stream",
     "text": [
      "[2018-05-23 21:10:56,382] Starting new video recorder writing to /datasets/home/09/409/ee276cae/Reinforcement-Learning/hw3 - Policy Gradients/REINFORCE/CartPole-v0/openaigym.video.6.146.video001100.mp4\n"
     ]
    },
    {
     "name": "stdout",
     "output_type": "stream",
     "text": [
      "Average reward: 24.72424172095228\n"
     ]
    },
    {
     "name": "stderr",
     "output_type": "stream",
     "text": [
      "[2018-05-23 21:10:59,399] Starting new video recorder writing to /datasets/home/09/409/ee276cae/Reinforcement-Learning/hw3 - Policy Gradients/REINFORCE/CartPole-v0/openaigym.video.6.146.video001200.mp4\n"
     ]
    },
    {
     "name": "stdout",
     "output_type": "stream",
     "text": [
      "Average reward: 24.88802963490466\n",
      "Average reward: 24.443628153159427\n"
     ]
    },
    {
     "name": "stderr",
     "output_type": "stream",
     "text": [
      "[2018-05-23 21:11:01,569] Starting new video recorder writing to /datasets/home/09/409/ee276cae/Reinforcement-Learning/hw3 - Policy Gradients/REINFORCE/CartPole-v0/openaigym.video.6.146.video001300.mp4\n"
     ]
    },
    {
     "name": "stdout",
     "output_type": "stream",
     "text": [
      "Average reward: 24.421446745501452\n"
     ]
    },
    {
     "name": "stderr",
     "output_type": "stream",
     "text": [
      "[2018-05-23 21:11:03,654] Starting new video recorder writing to /datasets/home/09/409/ee276cae/Reinforcement-Learning/hw3 - Policy Gradients/REINFORCE/CartPole-v0/openaigym.video.6.146.video001400.mp4\n"
     ]
    },
    {
     "name": "stdout",
     "output_type": "stream",
     "text": [
      "Average reward: 25.250374408226378\n"
     ]
    },
    {
     "name": "stderr",
     "output_type": "stream",
     "text": [
      "[2018-05-23 21:11:05,902] Starting new video recorder writing to /datasets/home/09/409/ee276cae/Reinforcement-Learning/hw3 - Policy Gradients/REINFORCE/CartPole-v0/openaigym.video.6.146.video001500.mp4\n"
     ]
    },
    {
     "name": "stdout",
     "output_type": "stream",
     "text": [
      "Average reward: 25.487855687815056\n"
     ]
    },
    {
     "name": "stderr",
     "output_type": "stream",
     "text": [
      "[2018-05-23 21:11:09,121] Starting new video recorder writing to /datasets/home/09/409/ee276cae/Reinforcement-Learning/hw3 - Policy Gradients/REINFORCE/CartPole-v0/openaigym.video.6.146.video001600.mp4\n"
     ]
    },
    {
     "name": "stdout",
     "output_type": "stream",
     "text": [
      "Average reward: 24.9134629034243\n",
      "Average reward: 26.717789758253083\n"
     ]
    },
    {
     "name": "stderr",
     "output_type": "stream",
     "text": [
      "[2018-05-23 21:11:11,617] Starting new video recorder writing to /datasets/home/09/409/ee276cae/Reinforcement-Learning/hw3 - Policy Gradients/REINFORCE/CartPole-v0/openaigym.video.6.146.video001700.mp4\n"
     ]
    },
    {
     "name": "stdout",
     "output_type": "stream",
     "text": [
      "Average reward: 27.281900270340426\n"
     ]
    },
    {
     "name": "stderr",
     "output_type": "stream",
     "text": [
      "[2018-05-23 21:11:15,090] Starting new video recorder writing to /datasets/home/09/409/ee276cae/Reinforcement-Learning/hw3 - Policy Gradients/REINFORCE/CartPole-v0/openaigym.video.6.146.video001800.mp4\n"
     ]
    },
    {
     "name": "stdout",
     "output_type": "stream",
     "text": [
      "Average reward: 27.5678052568234\n",
      "Average reward: 26.98941499398223\n"
     ]
    },
    {
     "name": "stderr",
     "output_type": "stream",
     "text": [
      "[2018-05-23 21:11:17,668] Starting new video recorder writing to /datasets/home/09/409/ee276cae/Reinforcement-Learning/hw3 - Policy Gradients/REINFORCE/CartPole-v0/openaigym.video.6.146.video001900.mp4\n"
     ]
    },
    {
     "name": "stdout",
     "output_type": "stream",
     "text": [
      "Average reward: 26.18994424428312\n"
     ]
    },
    {
     "name": "stderr",
     "output_type": "stream",
     "text": [
      "[2018-05-23 21:11:20,931] Starting new video recorder writing to /datasets/home/09/409/ee276cae/Reinforcement-Learning/hw3 - Policy Gradients/REINFORCE/CartPole-v0/openaigym.video.6.146.video002000.mp4\n"
     ]
    },
    {
     "name": "stdout",
     "output_type": "stream",
     "text": [
      "Average reward: 26.43044703206896\n",
      "Average reward: 26.058924680465513\n"
     ]
    },
    {
     "name": "stderr",
     "output_type": "stream",
     "text": [
      "[2018-05-23 21:11:23,727] Starting new video recorder writing to /datasets/home/09/409/ee276cae/Reinforcement-Learning/hw3 - Policy Gradients/REINFORCE/CartPole-v0/openaigym.video.6.146.video002100.mp4\n"
     ]
    },
    {
     "name": "stdout",
     "output_type": "stream",
     "text": [
      "Average reward: 28.505978446442235\n",
      "Average reward: 28.83067952412012\n"
     ]
    },
    {
     "name": "stderr",
     "output_type": "stream",
     "text": [
      "[2018-05-23 21:11:27,299] Starting new video recorder writing to /datasets/home/09/409/ee276cae/Reinforcement-Learning/hw3 - Policy Gradients/REINFORCE/CartPole-v0/openaigym.video.6.146.video002200.mp4\n"
     ]
    },
    {
     "name": "stdout",
     "output_type": "stream",
     "text": [
      "Average reward: 29.089145547914114\n",
      "Average reward: 30.334688270518406\n"
     ]
    },
    {
     "name": "stderr",
     "output_type": "stream",
     "text": [
      "[2018-05-23 21:11:30,832] Starting new video recorder writing to /datasets/home/09/409/ee276cae/Reinforcement-Learning/hw3 - Policy Gradients/REINFORCE/CartPole-v0/openaigym.video.6.146.video002300.mp4\n"
     ]
    },
    {
     "name": "stdout",
     "output_type": "stream",
     "text": [
      "Average reward: 30.317953856992485\n",
      "Average reward: 30.452056164142856\n"
     ]
    },
    {
     "name": "stderr",
     "output_type": "stream",
     "text": [
      "[2018-05-23 21:11:35,119] Starting new video recorder writing to /datasets/home/09/409/ee276cae/Reinforcement-Learning/hw3 - Policy Gradients/REINFORCE/CartPole-v0/openaigym.video.6.146.video002400.mp4\n"
     ]
    },
    {
     "name": "stdout",
     "output_type": "stream",
     "text": [
      "Average reward: 32.029453355935715\n",
      "Average reward: 32.377980688138926\n"
     ]
    },
    {
     "name": "stderr",
     "output_type": "stream",
     "text": [
      "[2018-05-23 21:11:39,041] Starting new video recorder writing to /datasets/home/09/409/ee276cae/Reinforcement-Learning/hw3 - Policy Gradients/REINFORCE/CartPole-v0/openaigym.video.6.146.video002500.mp4\n"
     ]
    },
    {
     "name": "stdout",
     "output_type": "stream",
     "text": [
      "Average reward: 34.70908165373198\n",
      "Average reward: 34.67362757104538\n"
     ]
    },
    {
     "name": "stderr",
     "output_type": "stream",
     "text": [
      "[2018-05-23 21:11:42,869] Starting new video recorder writing to /datasets/home/09/409/ee276cae/Reinforcement-Learning/hw3 - Policy Gradients/REINFORCE/CartPole-v0/openaigym.video.6.146.video002600.mp4\n"
     ]
    },
    {
     "name": "stdout",
     "output_type": "stream",
     "text": [
      "Average reward: 35.03994619249311\n",
      "Average reward: 36.63794888286846\n"
     ]
    },
    {
     "name": "stderr",
     "output_type": "stream",
     "text": [
      "[2018-05-23 21:11:47,351] Starting new video recorder writing to /datasets/home/09/409/ee276cae/Reinforcement-Learning/hw3 - Policy Gradients/REINFORCE/CartPole-v0/openaigym.video.6.146.video002700.mp4\n"
     ]
    },
    {
     "name": "stdout",
     "output_type": "stream",
     "text": [
      "Average reward: 37.206051438725034\n",
      "Average reward: 36.94574886678878\n",
      "Average reward: 38.14846142344934\n"
     ]
    },
    {
     "name": "stderr",
     "output_type": "stream",
     "text": [
      "[2018-05-23 21:11:52,418] Starting new video recorder writing to /datasets/home/09/409/ee276cae/Reinforcement-Learning/hw3 - Policy Gradients/REINFORCE/CartPole-v0/openaigym.video.6.146.video002800.mp4\n"
     ]
    },
    {
     "name": "stdout",
     "output_type": "stream",
     "text": [
      "Average reward: 37.89103835227687\n",
      "Average reward: 37.59648643466303\n",
      "Average reward: 41.01666211292988\n"
     ]
    },
    {
     "name": "stderr",
     "output_type": "stream",
     "text": [
      "[2018-05-23 21:11:58,322] Starting new video recorder writing to /datasets/home/09/409/ee276cae/Reinforcement-Learning/hw3 - Policy Gradients/REINFORCE/CartPole-v0/openaigym.video.6.146.video002900.mp4\n"
     ]
    },
    {
     "name": "stdout",
     "output_type": "stream",
     "text": [
      "Average reward: 41.565829007283384\n",
      "Average reward: 41.837537556919216\n"
     ]
    },
    {
     "name": "stderr",
     "output_type": "stream",
     "text": [
      "[2018-05-23 21:12:04,138] Starting new video recorder writing to /datasets/home/09/409/ee276cae/Reinforcement-Learning/hw3 - Policy Gradients/REINFORCE/CartPole-v0/openaigym.video.6.146.video003000.mp4\n"
     ]
    },
    {
     "name": "stdout",
     "output_type": "stream",
     "text": [
      "Average reward: 42.19566067907326\n",
      "Average reward: 42.335877645119595\n",
      "Average reward: 42.01908376286361\n"
     ]
    },
    {
     "name": "stderr",
     "output_type": "stream",
     "text": [
      "[2018-05-23 21:12:09,874] Starting new video recorder writing to /datasets/home/09/409/ee276cae/Reinforcement-Learning/hw3 - Policy Gradients/REINFORCE/CartPole-v0/openaigym.video.6.146.video003100.mp4\n"
     ]
    },
    {
     "name": "stdout",
     "output_type": "stream",
     "text": [
      "Average reward: 42.418129574720425\n",
      "Average reward: 44.1472230959844\n",
      "Average reward: 44.68986194118518\n",
      "Average reward: 46.055368844125915\n"
     ]
    },
    {
     "name": "stderr",
     "output_type": "stream",
     "text": [
      "[2018-05-23 21:12:16,606] Starting new video recorder writing to /datasets/home/09/409/ee276cae/Reinforcement-Learning/hw3 - Policy Gradients/REINFORCE/CartPole-v0/openaigym.video.6.146.video003200.mp4\n"
     ]
    },
    {
     "name": "stdout",
     "output_type": "stream",
     "text": [
      "Average reward: 47.252600401919615\n",
      "Average reward: 47.78997038182363\n",
      "Average reward: 48.650471862732445\n"
     ]
    },
    {
     "name": "stderr",
     "output_type": "stream",
     "text": [
      "[2018-05-23 21:12:22,959] Starting new video recorder writing to /datasets/home/09/409/ee276cae/Reinforcement-Learning/hw3 - Policy Gradients/REINFORCE/CartPole-v0/openaigym.video.6.146.video003300.mp4\n"
     ]
    },
    {
     "name": "stdout",
     "output_type": "stream",
     "text": [
      "Average reward: 47.96794826959582\n",
      "Average reward: 54.21955085611603\n",
      "Average reward: 54.208573313310225\n",
      "Average reward: 59.19814464764472\n"
     ]
    },
    {
     "name": "stderr",
     "output_type": "stream",
     "text": [
      "[2018-05-23 21:12:30,788] Starting new video recorder writing to /datasets/home/09/409/ee276cae/Reinforcement-Learning/hw3 - Policy Gradients/REINFORCE/CartPole-v0/openaigym.video.6.146.video003400.mp4\n"
     ]
    },
    {
     "name": "stdout",
     "output_type": "stream",
     "text": [
      "Average reward: 69.88823741526248\n",
      "Average reward: 70.39382554449935\n",
      "Average reward: 71.42413426727438\n",
      "Average reward: 70.65292755391066\n",
      "Average reward: 68.72028117621511\n"
     ]
    },
    {
     "name": "stderr",
     "output_type": "stream",
     "text": [
      "[2018-05-23 21:12:40,248] Starting new video recorder writing to /datasets/home/09/409/ee276cae/Reinforcement-Learning/hw3 - Policy Gradients/REINFORCE/CartPole-v0/openaigym.video.6.146.video003500.mp4\n"
     ]
    },
    {
     "name": "stdout",
     "output_type": "stream",
     "text": [
      "Average reward: 80.58426711740435\n",
      "Average reward: 81.55505376153413\n",
      "Average reward: 81.3273010734574\n",
      "Average reward: 83.31093601978453\n",
      "Average reward: 88.9453892187953\n"
     ]
    },
    {
     "name": "stderr",
     "output_type": "stream",
     "text": [
      "[2018-05-23 21:12:50,685] Starting new video recorder writing to /datasets/home/09/409/ee276cae/Reinforcement-Learning/hw3 - Policy Gradients/REINFORCE/CartPole-v0/openaigym.video.6.146.video003600.mp4\n"
     ]
    },
    {
     "name": "stdout",
     "output_type": "stream",
     "text": [
      "Average reward: 88.99811975785553\n",
      "Average reward: 93.74821376996276\n",
      "Average reward: 101.66080308146462\n",
      "Average reward: 113.62776292739139\n",
      "Average reward: 146.1963747810218\n",
      "Average reward: 151.9865560419707\n",
      "Average reward: 160.88722823987214\n",
      "Average reward: 166.64286682787855\n",
      "Average reward: 166.7607234864846\n",
      "Average reward: 168.02268731216037\n"
     ]
    },
    {
     "name": "stderr",
     "output_type": "stream",
     "text": [
      "[2018-05-23 21:13:10,775] Starting new video recorder writing to /datasets/home/09/409/ee276cae/Reinforcement-Learning/hw3 - Policy Gradients/REINFORCE/CartPole-v0/openaigym.video.6.146.video003700.mp4\n"
     ]
    },
    {
     "name": "stdout",
     "output_type": "stream",
     "text": [
      "Average reward: 169.62155294655236\n",
      "Average reward: 178.49047529922473\n",
      "Average reward: 183.9659515342635\n",
      "Average reward: 182.86765395755032\n",
      "Average reward: 192.27427125967282\n",
      "Average reward: 195.61055769668914\n",
      "Average reward: 217.28002981185466\n",
      "Average reward: 236.5160283212619\n",
      "Average reward: 258.5402269051988\n",
      "Average reward: 277.7632155599388\n"
     ]
    },
    {
     "name": "stderr",
     "output_type": "stream",
     "text": [
      "[2018-05-23 21:13:33,741] Finished writing results. You can upload them to the scoreboard via gym.upload('/datasets/home/09/409/ee276cae/Reinforcement-Learning/hw3 - Policy Gradients/DQN/CartPole-v0')\n",
      "[2018-05-23 21:13:34,854] Finished writing results. You can upload them to the scoreboard via gym.upload('/datasets/home/09/409/ee276cae/Reinforcement-Learning/hw3 - Policy Gradients/REINFORCE/CartPole-v0')\n"
     ]
    }
   ],
   "source": [
    "VISUALIZE = True\n",
    "n_iter = 1000 \n",
    "avg_reward = 0\n",
    "avg_rewards = []\n",
    "step_list_reinforce = []\n",
    "total_steps = 0\n",
    "episodes = 0\n",
    "reached = animate_interval\n",
    "\n",
    "for itr in range(n_iter): # loop for number of optimization steps\n",
    "    paths = []\n",
    "    steps = 0\n",
    "    \n",
    "    while True: # loop to get enough timesteps in this batch --> if episode ends this loop will restart till steps reaches limit\n",
    "        state = env.reset()\n",
    "        obs, acs, rews, log_probs = [], [], [], []\n",
    "        animate_this_episode = (itr % animate_interval == 0) and VISUALIZE\n",
    "       \n",
    "        while True: # loop for episode inside batch\n",
    "            if animate_this_episode:\n",
    "                env.render()\n",
    "                time.sleep(0.05)\n",
    "            \n",
    "            # get parametrized policy distribution from net using current state ob\n",
    "            logit = net(to_tensor(state))\n",
    "            \n",
    "            # sample action and get log-probability (log_odds) from distribution\n",
    "            action, log_prob = sample_action(logit, discrete, env)\n",
    "            \n",
    "            # step environment, record reward, next state\n",
    "            next_state, reward, done, _ = env.step(action)\n",
    "            \n",
    "            # append to obs, acs, rewards, log_odds\n",
    "            obs.append(state)\n",
    "            acs.append(action)\n",
    "            rews.append(reward)\n",
    "            log_probs.append(log_prob)\n",
    "            \n",
    "            # if done, restart episode till min_timesteps_per_batch is reached\n",
    "            \n",
    "            steps += 1\n",
    "            \n",
    "            if done:\n",
    "                episodes = episodes + 1\n",
    "                break\n",
    "                \n",
    "            state = next_state\n",
    "                \n",
    "        path = {\"observation\" : obs, \n",
    "                \"reward\" : np.array(rews), \n",
    "                \"action\" : (acs),\n",
    "                \"log_probs\" : torch.stack(log_probs)}\n",
    "        \n",
    "        paths.append(path)\n",
    "        \n",
    "        if steps > min_timesteps_per_batch:\n",
    "            break \n",
    "        \n",
    "    #print(paths)\n",
    "    update_policy(paths, net)  # use all complete episodes (a batch of timesteps) recorded in this itr to update net\n",
    "    if itr == 0:\n",
    "        avg_reward = path['reward'].sum()\n",
    "    else:\n",
    "        avg_reward = avg_reward * 0.95 + 0.05 * path['reward'].sum()\n",
    "    \n",
    "    if avg_reward > 300:\n",
    "        state = env.reset()\n",
    "        if reached>0:\n",
    "            break\n",
    "        reached += 1\n",
    "    \n",
    "    total_steps += steps\n",
    "    avg_rewards.append(avg_reward)\n",
    "    step_list_reinforce.append(total_steps)\n",
    "    #print(itr,total_steps,path['reward'],len(paths))\n",
    "    if itr % 1 == 0:\n",
    "        print('Average reward: {}'.format(avg_reward))\n",
    "   \n",
    "      \n",
    "env.close()"
   ]
  },
  {
   "cell_type": "code",
   "execution_count": 59,
   "metadata": {},
   "outputs": [
    {
     "data": {
      "text/plain": [
       "Text(0,0.5,'Average reward')"
      ]
     },
     "execution_count": 59,
     "metadata": {},
     "output_type": "execute_result"
    },
    {
     "data": {
      "image/png": "[encoded data removed]",
      "text/plain": [
       "<Figure size 432x288 with 1 Axes>"
      ]
     },
     "metadata": {},
     "output_type": "display_data"
    }
   ],
   "source": [
    "plt.plot(avg_rewards)\n",
    "plt.title('Training reward for <env> over multiple runs ')\n",
    "plt.xlabel('Iteration')\n",
    "plt.ylabel('Average reward')"
   ]
  },
  {
   "cell_type": "markdown",
   "metadata": {},
   "source": [
    "# BONUS (15% extra)\n",
    "\n",
    "Compare average returns for CartPole (discrete action space) when using REINFORCE and DQN. Since in REINFORCE we update the network after a set number of steps instead of after every episode, plot the average rewards as a function of steps rather than episodes for both DQN and REINFORCE. You will need to make minor edits to your DQN code from the previous assignment to record average returns as a function of time_steps.\n",
    "\n",
    "Similarly, compare REINFORCE with DDPG on InvertedPendulum and HalfCheetah using steps for the x-axis.\n",
    "\n",
    "You may use the example code provided below as a reference for the graphs.\n"
   ]
  },
  {
   "cell_type": "code",
   "execution_count": 64,
   "metadata": {},
   "outputs": [],
   "source": [
    "class DQNReplay(object):\n",
    "# Replay should also have an initialize method which creates a minimum buffer for \n",
    "# the initial episodes to generate minibatches.\n",
    "    def __init__(self, max_size):\n",
    "        self.buffer = []\n",
    "        self.capacity = max_size\n",
    "        self.position = 0\n",
    "        \n",
    "    def add_exp(self, state, action, reward, next_state, done):\n",
    "        if len(self.buffer) < self.capacity:\n",
    "            self.buffer.append(None)\n",
    "        self.buffer[self.position] = (np.asarray(state), action, reward, np.asarray(next_state), done)\n",
    "        self.position = (self.position+1)%self.capacity\n",
    "    \n",
    "    def initialize(self, init_length, envir):\n",
    "        state = envir.reset()\n",
    "        while True:\n",
    "            action = envir.action_space.sample()\n",
    "            next_state, reward, done, _ = envir.step(action)\n",
    "            self.add_exp(state, action, reward, next_state, done)\n",
    "            if done:\n",
    "                state = envir.reset()\n",
    "                if len(self.buffer)>=init_length:\n",
    "                    break\n",
    "            else:\n",
    "                state = next_state\n",
    "    \n",
    "    def sample(self, batch_size):\n",
    "        return random.sample(self.buffer, batch_size)\n",
    "            \n",
    "    def generate_minibatch(self, DQN, targetDQN, batch_size, gamma):\n",
    "        states = []\n",
    "        target_qvalues = []\n",
    "        actions = np.ones((batch_size,2))\n",
    "        samples = self.sample(batch_size)\n",
    "        counter = 0\n",
    "        for state, action, reward, next_state, done in samples:\n",
    "            # if done then qvalue is the reward itself\n",
    "            # else it is reward+gamma*max(targetQ(s'))\n",
    "            max_qsa = reward\n",
    "            if not done:\n",
    "                target_q = to_numpy(targetDQN(to_tensor(next_state)))\n",
    "                max_qsa += gamma*max(target_q)\n",
    "            \n",
    "            # qvalues for the action taken need to be optimized\n",
    "            y = to_numpy(DQN(to_tensor(state)))\n",
    "            y[action] = max_qsa\n",
    "            actions[counter,action] = 1\n",
    "            counter+=1\n",
    "            states.append(state)\n",
    "            target_qvalues.append(y)\n",
    "            \n",
    "            \n",
    "        states = np.asarray(states)\n",
    "        target_qvalues = np.asarray(target_qvalues)\n",
    "        return states, actions, target_qvalues\n",
    "                "
   ]
  },
  {
   "cell_type": "code",
   "execution_count": 65,
   "metadata": {},
   "outputs": [],
   "source": [
    " # import your DQN and format your average returns as defined above\n",
    "class QNetwork(nn.Module):\n",
    "# Define your network here       \n",
    "    def __init__(self, learning_rate, state_size, action_size, hidden_size, alpha_decay):\n",
    "        super(QNetwork, self).__init__()\n",
    "        self.layer1 = nn.Linear(state_size, hidden_size)\n",
    "        self.layer2 = nn.Linear(hidden_size, hidden_size)\n",
    "        self.layer3 = nn.Linear(hidden_size, action_size)\n",
    "        \n",
    "        # Adam optimizer\n",
    "        self.optimizer = optim.Adam(self.parameters(), lr=learning_rate)\n",
    "        \n",
    "        # LR Scheduler\n",
    "        self.scheduler = optim.lr_scheduler.StepLR(self.optimizer, step_size=500, gamma=alpha_decay)\n",
    "        \n",
    "        # Mean squared error loss\n",
    "        self.criterion = nn.MSELoss()\n",
    "        \n",
    "    def forward(self, x):\n",
    "        x = F.tanh(self.layer1(x))\n",
    "        x = F.tanh(self.layer2(x))\n",
    "        x = self.layer3(x)\n",
    "        return x\n",
    "    \n",
    "    def run_optimize(self, inputs, targets, mask):\n",
    "        self.optimizer.zero_grad()\n",
    "        outputs = self(inputs)\n",
    "        self.loss = self.criterion(outputs, targets)\n",
    "        self.loss.backward()\n",
    "        self.optimizer.step()\n",
    "        self.scheduler.step()\n",
    "    \n",
    "    def copyWeights(self, other):\n",
    "        self.load_state_dict(other.state_dict())"
   ]
  },
  {
   "cell_type": "code",
   "execution_count": 66,
   "metadata": {},
   "outputs": [
    {
     "name": "stderr",
     "output_type": "stream",
     "text": [
      "[2018-05-23 21:15:53,039] Making new env: CartPole-v0\n",
      "[2018-05-23 21:15:53,046] Clearing 31 monitor files from previous run (because force=True was provided)\n",
      "[2018-05-23 21:15:53,089] Starting new video recorder writing to /datasets/home/09/409/ee276cae/Reinforcement-Learning/hw3 - Policy Gradients/DQN/CartPole-v0/openaigym.video.7.146.video000000.mp4\n",
      "[2018-05-23 21:15:53,586] Starting new video recorder writing to /datasets/home/09/409/ee276cae/Reinforcement-Learning/hw3 - Policy Gradients/DQN/CartPole-v0/openaigym.video.7.146.video000050.mp4\n"
     ]
    }
   ],
   "source": [
    "# Initialize DQN\n",
    "# Play around with your learning rate, alpha decay and hidden layer units \n",
    "# Two layers with a small number of units should be enough\n",
    "\n",
    "env_name = 'CartPole-v0'\n",
    "# wrap gym to save videos\n",
    "env = gym.make(env_name).env\n",
    "env.reset()\n",
    "logging_interval = 50\n",
    "animate_interval = logging_interval * 5\n",
    "MAX_PATH_LENGTH = 1000\n",
    "\n",
    "logdir='./DQN/'+env_name\n",
    "\n",
    "if VISUALIZE:\n",
    "    if not os.path.exists(logdir):\n",
    "        os.mkdir(logdir)\n",
    "    env = gym.wrappers.Monitor(env, logdir, force=True, video_callable=lambda episode_id: episode_id%logging_interval==0)\n",
    "env._max_episode_steps = MAX_PATH_LENGTH\n",
    "\n",
    "learning_rate = 0.0008\n",
    "state_size = env.observation_space.shape[0]\n",
    "action_size = env.action_space.n\n",
    "hidden_size = 100\n",
    "alpha_decay = 0.08\n",
    "DQN = QNetwork(learning_rate, state_size, action_size, hidden_size, alpha_decay)\n",
    "targetDQN = QNetwork(learning_rate, state_size, action_size, hidden_size, alpha_decay)\n",
    "DQN.cuda()\n",
    "targetDQN.cuda()\n",
    "\n",
    "# set targetDQN weights to DQN weights\n",
    "# for ex. targetDQN.model.weights = DQN.model.weights (syntax given here is for representation purpose only)\n",
    "targetDQN.copyWeights(DQN)\n",
    "\n",
    "## Initialize Replay Buffer\n",
    "###################################\n",
    "## Populate the initial experience buffer\n",
    "###################################\n",
    "\n",
    "replay = DQNReplay(max_size=10000)\n",
    "replay.initialize(init_length=1000, envir=env)"
   ]
  },
  {
   "cell_type": "code",
   "execution_count": 67,
   "metadata": {},
   "outputs": [
    {
     "name": "stdout",
     "output_type": "stream",
     "text": [
      "Average reward: 17.0\n"
     ]
    },
    {
     "name": "stderr",
     "output_type": "stream",
     "text": [
      "[2018-05-23 21:15:58,178] Starting new video recorder writing to /datasets/home/09/409/ee276cae/Reinforcement-Learning/hw3 - Policy Gradients/DQN/CartPole-v0/openaigym.video.7.146.video000100.mp4\n"
     ]
    },
    {
     "name": "stdout",
     "output_type": "stream",
     "text": [
      "50 17.0\n"
     ]
    },
    {
     "name": "stderr",
     "output_type": "stream",
     "text": [
      "[2018-05-23 21:16:02,713] Starting new video recorder writing to /datasets/home/09/409/ee276cae/Reinforcement-Learning/hw3 - Policy Gradients/DQN/CartPole-v0/openaigym.video.7.146.video000150.mp4\n"
     ]
    },
    {
     "name": "stdout",
     "output_type": "stream",
     "text": [
      "100 42.0\n",
      "Average reward: 24.76720338213603\n"
     ]
    },
    {
     "name": "stderr",
     "output_type": "stream",
     "text": [
      "[2018-05-23 21:16:07,404] Starting new video recorder writing to /datasets/home/09/409/ee276cae/Reinforcement-Learning/hw3 - Policy Gradients/DQN/CartPole-v0/openaigym.video.7.146.video000200.mp4\n"
     ]
    },
    {
     "name": "stdout",
     "output_type": "stream",
     "text": [
      "150 37.0\n"
     ]
    },
    {
     "name": "stderr",
     "output_type": "stream",
     "text": [
      "[2018-05-23 21:16:12,161] Starting new video recorder writing to /datasets/home/09/409/ee276cae/Reinforcement-Learning/hw3 - Policy Gradients/DQN/CartPole-v0/openaigym.video.7.146.video000250.mp4\n"
     ]
    },
    {
     "name": "stdout",
     "output_type": "stream",
     "text": [
      "200 12.0\n",
      "Average reward: 33.47939035003671\n"
     ]
    },
    {
     "name": "stderr",
     "output_type": "stream",
     "text": [
      "[2018-05-23 21:16:16,927] Starting new video recorder writing to /datasets/home/09/409/ee276cae/Reinforcement-Learning/hw3 - Policy Gradients/DQN/CartPole-v0/openaigym.video.7.146.video000300.mp4\n"
     ]
    },
    {
     "name": "stdout",
     "output_type": "stream",
     "text": [
      "250 42.0\n"
     ]
    },
    {
     "name": "stderr",
     "output_type": "stream",
     "text": [
      "[2018-05-23 21:16:21,729] Starting new video recorder writing to /datasets/home/09/409/ee276cae/Reinforcement-Learning/hw3 - Policy Gradients/DQN/CartPole-v0/openaigym.video.7.146.video000350.mp4\n"
     ]
    },
    {
     "name": "stdout",
     "output_type": "stream",
     "text": [
      "300 28.0\n",
      "Average reward: 38.944611250416195\n"
     ]
    },
    {
     "name": "stderr",
     "output_type": "stream",
     "text": [
      "[2018-05-23 21:16:26,757] Starting new video recorder writing to /datasets/home/09/409/ee276cae/Reinforcement-Learning/hw3 - Policy Gradients/DQN/CartPole-v0/openaigym.video.7.146.video000400.mp4\n"
     ]
    },
    {
     "name": "stdout",
     "output_type": "stream",
     "text": [
      "350 36.0\n"
     ]
    },
    {
     "name": "stderr",
     "output_type": "stream",
     "text": [
      "[2018-05-23 21:16:31,910] Starting new video recorder writing to /datasets/home/09/409/ee276cae/Reinforcement-Learning/hw3 - Policy Gradients/DQN/CartPole-v0/openaigym.video.7.146.video000450.mp4\n"
     ]
    },
    {
     "name": "stdout",
     "output_type": "stream",
     "text": [
      "400 74.0\n",
      "Average reward: 63.75348484180259\n"
     ]
    },
    {
     "name": "stderr",
     "output_type": "stream",
     "text": [
      "[2018-05-23 21:16:38,193] Starting new video recorder writing to /datasets/home/09/409/ee276cae/Reinforcement-Learning/hw3 - Policy Gradients/DQN/CartPole-v0/openaigym.video.7.146.video000500.mp4\n"
     ]
    },
    {
     "name": "stdout",
     "output_type": "stream",
     "text": [
      "450 128.0\n"
     ]
    },
    {
     "name": "stderr",
     "output_type": "stream",
     "text": [
      "[2018-05-23 21:16:45,718] Starting new video recorder writing to /datasets/home/09/409/ee276cae/Reinforcement-Learning/hw3 - Policy Gradients/DQN/CartPole-v0/openaigym.video.7.146.video000550.mp4\n"
     ]
    },
    {
     "name": "stdout",
     "output_type": "stream",
     "text": [
      "500 335.0\n",
      "Average reward: 248.5546027458967\n"
     ]
    }
   ],
   "source": [
    "# Runtime parameters\n",
    "num_episodes = 2000            # max number of episodes to learn from\n",
    "gamma = 0.99                   # future reward discount\n",
    "max_steps = 1000                # cut off simulation after this many steps\n",
    "batch_size = 250\n",
    "C = 50\n",
    "\n",
    "# Exploration parameters\n",
    "min_epsilon = 0.001             # minimum exploration probability\n",
    "decay_rate = 5.0/num_episodes    # exponential decay rate for exploration prob\n",
    "returns = np.zeros(num_episodes)\n",
    "\n",
    "total_steps = 0\n",
    "avg_reward = 0.0\n",
    "avg_rewards_dqn = []\n",
    "step_list_DQN = []\n",
    "\n",
    "for ep in range(0, num_episodes):\n",
    "    epsilon = min_epsilon + (1.0 - min_epsilon)*np.exp(-decay_rate*ep)\n",
    "    state = env.reset()\n",
    "    total_reward = 0.0\n",
    "    steps = 0\n",
    "    for step in range(max_steps):\n",
    "        # --> start episode\n",
    "        q_sa = to_numpy(DQN(to_tensor(state)))\n",
    "        action = np.argmax(q_sa)\n",
    "        \n",
    "        # explore/exploit and get action using DQN\n",
    "        # binary action space\n",
    "        if np.random.rand()<epsilon:\n",
    "            action = env.action_space.sample()\n",
    "            \n",
    "        # perform action and record new_state, action, reward\n",
    "        next_state, reward, done, _ = env.step(action)\n",
    "        total_reward += reward\n",
    "        steps+=1\n",
    "        \n",
    "        # populate Replay experience buffer\n",
    "        replay.add_exp(state, action, reward, next_state, done)\n",
    "        \n",
    "        if done:\n",
    "            break\n",
    "        else:\n",
    "            state = next_state\n",
    "        # <-- end episode\n",
    "\n",
    "    returns[ep] = total_reward\n",
    "    #print(returns[ep])\n",
    "\n",
    "    # Replay\n",
    "    states, actions, target_qvalues = replay.generate_minibatch(DQN, targetDQN, batch_size, gamma)\n",
    "    \n",
    "    # set targetDQN weights to DQN weights\n",
    "    if (ep+1)%C==0:\n",
    "        print(ep+1, returns[ep])\n",
    "        targetDQN.copyWeights(DQN)\n",
    "    \n",
    "    # update DQN (run one epoch of training per episode with generated minibatch of states and qvalues)\n",
    "    #for i in range(states.shape[0]):\n",
    "    #    DQN.run_optimize(to_tensor(states[i]), to_tensor(target_qvalues[i]))\n",
    "    DQN.run_optimize(to_tensor(states), to_tensor(target_qvalues, requires_grad=False), to_tensor(actions))\n",
    "        #print(paths)\n",
    "\n",
    "    if ep == 0:\n",
    "        avg_reward = total_reward\n",
    "    else:\n",
    "        avg_reward = avg_reward * 0.95 + 0.05 * total_reward\n",
    "    \n",
    "    if avg_reward > 300:\n",
    "        break\n",
    "    \n",
    "    total_steps += steps\n",
    "    avg_rewards_dqn.append(avg_reward)\n",
    "    step_list_DQN.append(total_steps)\n",
    "    #print(itr,total_steps,path['reward'],len(paths))\n",
    "    if ep % 100 == 0:\n",
    "        print('Average reward: {}'.format(avg_reward))"
   ]
  },
  {
   "cell_type": "code",
   "execution_count": 69,
   "metadata": {},
   "outputs": [
    {
     "data": {
      "text/plain": [
       "Text(0,0.5,'Average reward')"
      ]
     },
     "execution_count": 69,
     "metadata": {},
     "output_type": "execute_result"
    },
    {
     "data": {
      "image/png": "[encoded data removed]",
      "text/plain": [
       "<Figure size 432x288 with 1 Axes>"
      ]
     },
     "metadata": {},
     "output_type": "display_data"
    }
   ],
   "source": [
    "plt.plot(step_list_DQN,avg_rewards_dqn)\n",
    "plt.title('Training reward for <env> over multiple runs ')\n",
    "plt.xlabel('Steps')\n",
    "plt.ylabel('Average reward')"
   ]
  },
  {
   "cell_type": "code",
   "execution_count": 71,
   "metadata": {},
   "outputs": [
    {
     "data": {
      "image/png": "[encoded data removed]",
      "text/plain": [
       "<Figure size 432x288 with 1 Axes>"
      ]
     },
     "metadata": {},
     "output_type": "display_data"
    }
   ],
   "source": [
    "plt.figure()\n",
    "\n",
    "#out = numpy_ewma_vectorized_v2(np.array(running_rewards_ddpg),20)\n",
    "plt.plot(step_list_DQN, avg_rewards_dqn) # or plt.plot(step_list_ddpg, out)\n",
    "plt.title('Training reward over multiple runs')\n",
    "plt.xlabel('Number of steps')\n",
    "plt.ylabel('Cumulative reward')\n",
    "plt.legend(['DQN', 'REINFORCE']) #orplt.legend(['DDPG', 'REINFORCE'])\n",
    "plt.plot(step_list_reinforce, avg_rewards)\n",
    "\n",
    "plt.show()"
   ]
  }
 ],
 "metadata": {
  "anaconda-cloud": {},
  "kernelspec": {
   "display_name": "Python 3",
   "language": "python",
   "name": "python3"
  },
  "language_info": {
   "codemirror_mode": {
    "name": "ipython",
    "version": 3
   },
   "file_extension": ".py",
   "mimetype": "text/x-python",
   "name": "python",
   "nbconvert_exporter": "python",
   "pygments_lexer": "ipython3",
   "version": "3.6.4"
  },
  "varInspector": {
   "cols": {
    "lenName": 16,
    "lenType": 16,
    "lenVar": 40
   },
   "kernels_config": {
    "python": {
     "delete_cmd_postfix": "",
     "delete_cmd_prefix": "del ",
     "library": "var_list.py",
     "varRefreshCmd": "print(var_dic_list())"
    },
    "r": {
     "delete_cmd_postfix": ") ",
     "delete_cmd_prefix": "rm(",
     "library": "var_list.r",
     "varRefreshCmd": "cat(var_dic_list()) "
    }
   },
   "types_to_exclude": [
    "module",
    "function",
    "builtin_function_or_method",
    "instance",
    "_Feature"
   ],
   "window_display": false
  }
 },
 "nbformat": 4,
 "nbformat_minor": 2
}
