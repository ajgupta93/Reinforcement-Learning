{
 "cells": [
  {
   "cell_type": "markdown",
   "metadata": {},
   "source": [
    "# Assignment 2: Function Approximation for Q Learning\n",
    "\n",
    "Name:\n",
    "\n",
    "ID:"
   ]
  },
  {
   "cell_type": "markdown",
   "metadata": {},
   "source": [
    "### 1. Cartpole\n",
    "\n",
    "A cartpole problem is shown below.\n",
    "![pendulum2.png](pendulum2.png)\n",
    "\n",
    "The equation for the cartpole problem is nonlinear in nature, but it has been shown through robust control theory that a linear version of the equation of the form $\\dot{x} = Ax+Bu$ can be solved by a linear controller. Let us assume that we are interested in minimizing cart stray from the center, and pendulum falling. It turns out that typical techniques - open loop control, PID control, root locus, etc. is not suitable for stabilizing both the cart position (keep near center) or the pole angle (keep vertical). The solution to this question is a linear quadratic controller, but we won't be using the solution at the moment."
   ]
  },
  {
   "cell_type": "markdown",
   "metadata": {},
   "source": [
    "### Setup Environment for Function Approximation\n"
   ]
  },
  {
   "cell_type": "code",
   "execution_count": 2,
   "metadata": {},
   "outputs": [
    {
     "name": "stdout",
     "output_type": "stream",
     "text": [
      "\u001b[33mWARN: gym.spaces.Box autodetected dtype as <type 'numpy.float32'>. Please provide explicit dtype.\u001b[0m\n"
     ]
    }
   ],
   "source": [
    "import gym\n",
    "import numpy as np\n",
    "import matplotlib.pyplot as plt\n",
    "\n",
    "# Create the CartPole game environment\n",
    "env = gym.make('CartPole-v0')\n",
    "state = env.reset()"
   ]
  },
  {
   "cell_type": "code",
   "execution_count": 49,
   "metadata": {},
   "outputs": [
    {
     "data": {
      "text/plain": [
       "(-inf, inf)"
      ]
     },
     "execution_count": 49,
     "metadata": {},
     "output_type": "execute_result"
    }
   ],
   "source": []
  },
  {
   "cell_type": "markdown",
   "metadata": {},
   "source": [
    "#### Demonstrate your understanding of the simulation\n",
    "For OpenAI's CartPole-v0 environment,\n",
    "- describe the reward system\n",
    "- describe the each state variable (observation space)\n",
    "- describe the action space"
   ]
  },
  {
   "cell_type": "markdown",
   "metadata": {},
   "source": [
    "Ans: \n",
    "\n"
   ]
  },
  {
   "cell_type": "markdown",
   "metadata": {},
   "source": [
    "### Write a Deep Neural Network class that creates a dense network of a desired architecture\n",
    "In this problem we will create neural network that is our function that takes states to q-values: $q=f(x)$. While any function approximator could be used (i.e. Chebyshev functions, taylor series polynomials), neural networks offer a most general form of 1st-order smooth function (though comprising of trivial small activation functions means that complex functions require a significant amount of weights to identify). \n",
    "\n",
    "Create a class for a QNetwork that uses PyTorch to create a fully connected sequential neural network, of the following properties:\n",
    "- solver: Adam\n",
    "\n",
    "- input and hidden layer activation function: tanh\n",
    "\n",
    "- output activation function: linear\n",
    "\n",
    "- loss: mse\n",
    "\n",
    "- learning_rate: variable\n",
    "\n",
    "- decay_rate: variable\n",
    "\n",
    "- hidden_state sizes: variable\n",
    "\n",
    "- state and action sizes: variable\n"
   ]
  },
  {
   "cell_type": "code",
   "execution_count": 70,
   "metadata": {},
   "outputs": [],
   "source": [
    "import torch\n",
    "from torch.autograd import Variable\n",
    "import torch.nn as nn\n",
    "import torch.nn.functional as F\n",
    "import torch.optim as optim\n",
    "import torchvision.transforms as transforms\n",
    "\n",
    "def toVar(x):\n",
    "    x = torch.from_numpy(x).float()\n",
    "    x = Variable(x)\n",
    "    return x\n",
    "\n",
    "def toNp(var):\n",
    "    return var.data.numpy()\n",
    "\n",
    "class QNetwork(nn.Module):\n",
    "# Define your network here       \n",
    "    def __init__(self, learning_rate, state_size, action_size, hidden_size, alpha_decay):\n",
    "        super(QNetwork, self).__init__()\n",
    "        self.layer1 = nn.Linear(state_size, hidden_size)\n",
    "        self.layer2 = nn.Linear(hidden_size, hidden_size)\n",
    "        self.layer3 = nn.Linear(hidden_size, action_size)\n",
    "        \n",
    "        # Adam optimizer\n",
    "        self.optimizer = optim.Adam(self.parameters(), lr=learning_rate)\n",
    "        \n",
    "        # LR Scheduler\n",
    "        self.scheduler = optim.lr_scheduler.StepLR(self.optimizer, step_size=500, gamma=alpha_decay)\n",
    "        \n",
    "        # Mean squared error loss\n",
    "        self.criterion = nn.MSELoss()\n",
    "        \n",
    "    def forward(self, x):\n",
    "        x = F.tanh(self.layer1(x))\n",
    "        x = F.tanh(self.layer2(x))\n",
    "        x = self.layer3(x)\n",
    "        return x\n",
    "    \n",
    "    def run_optimize(self, inputs, targets, mask):\n",
    "        self.optimizer.zero_grad()\n",
    "        outputs = self(inputs)\n",
    "        self.loss = self.criterion(outputs, targets)\n",
    "        self.loss.backward()\n",
    "        self.optimizer.step()\n",
    "        self.scheduler.step()\n",
    "    \n",
    "    def copyWeights(self, other):\n",
    "        self.load_state_dict(other.state_dict())"
   ]
  },
  {
   "cell_type": "markdown",
   "metadata": {},
   "source": [
    "#### Write a Replay class that includes all the functionality of a replay buffer\n",
    "The replay buffer should kept to some maximum size (10000), allow adding of samples and returning of samples at random from the buffer. Each sample (or experience) is formed as (state, action, reward, next_state, done). The replay buffer should also be able to generate a minibatch. The generate_minibatch method should take in DQN, targetDQN, selected batch_size, and return the states present in the minibatch and the target Q values for those states."
   ]
  },
  {
   "cell_type": "code",
   "execution_count": 71,
   "metadata": {},
   "outputs": [],
   "source": [
    "import random\n",
    "\n",
    "class Replay(object):\n",
    "# Replay should also have an initialize method which creates a minimum buffer for \n",
    "# the initial episodes to generate minibatches.\n",
    "    def __init__(self, max_size):\n",
    "        self.buffer = []\n",
    "        self.capacity = max_size\n",
    "        self.position = 0\n",
    "        \n",
    "    def add_exp(self, state, action, reward, next_state, done):\n",
    "        if len(self.buffer) < self.capacity:\n",
    "            self.buffer.append(None)\n",
    "        self.buffer[self.position] = (np.asarray(state), action, reward, np.asarray(next_state), done)\n",
    "        self.position = (self.position+1)%self.capacity\n",
    "    \n",
    "    def initialize(self, init_length, envir):\n",
    "        state = envir.reset()\n",
    "        while(len(self.buffer)<init_length):\n",
    "            state = envir.env.state\n",
    "            action = envir.action_space.sample()\n",
    "            next_state, reward, done, _ = envir.step(action)\n",
    "            self.add_exp(state, action, reward, next_state, done)\n",
    "            if done:\n",
    "                state = envir.reset()\n",
    "            else:\n",
    "                state = next_state\n",
    "    \n",
    "    def sample(self, batch_size):\n",
    "        return random.sample(self.buffer, batch_size)\n",
    "            \n",
    "    def generate_minibatch(self, DQN, targetDQN, batch_size, gamma):\n",
    "        states = []\n",
    "        target_qvalues = []\n",
    "        actions = np.ones((batch_size,2))\n",
    "        samples = self.sample(batch_size)\n",
    "        counter = 0\n",
    "        for state, action, reward, next_state, done in samples:\n",
    "            # if done then qvalue is the reward itself\n",
    "            # else it is reward+gamma*max(targetQ(s'))\n",
    "            #if done:\n",
    "            #    reward = 1\n",
    "            max_qsa = reward\n",
    "            if not done:\n",
    "                target_q = toNp(targetDQN(toVar(next_state)))\n",
    "                max_qsa += gamma*max(target_q)\n",
    "            \n",
    "            # qvalues for the action taken need to be optimized\n",
    "            y = toNp(DQN(toVar(state)))\n",
    "            y[action] = max_qsa\n",
    "            actions[counter,action] = 1\n",
    "            counter+=1\n",
    "            states.append(state)\n",
    "            target_qvalues.append(y)\n",
    "            \n",
    "            \n",
    "        states = np.asarray(states)\n",
    "        target_qvalues = np.asarray(target_qvalues)\n",
    "        return states, actions, target_qvalues\n",
    "                "
   ]
  },
  {
   "cell_type": "markdown",
   "metadata": {},
   "source": [
    "Write a function that creates a minibatch from a buffer"
   ]
  },
  {
   "cell_type": "markdown",
   "metadata": {},
   "source": [
    "### Perform Function Approximation\n",
    "Initialize DQN networks and Replay objects"
   ]
  },
  {
   "cell_type": "code",
   "execution_count": 72,
   "metadata": {},
   "outputs": [],
   "source": [
    "# Initialize DQN\n",
    "# Play around with your learning rate, alpha decay and hidden layer units \n",
    "# Two layers with a small number of units should be enough\n",
    "learning_rate = 0.001\n",
    "state_size = env.observation_space.shape[0]\n",
    "action_size = env.action_space.n\n",
    "hidden_size = 100\n",
    "alpha_decay = 0.6\n",
    "DQN = QNetwork(learning_rate, state_size, action_size, hidden_size, alpha_decay)\n",
    "targetDQN = QNetwork(learning_rate, state_size, action_size, hidden_size, alpha_decay)\n",
    "\n",
    "# set targetDQN weights to DQN weights\n",
    "# for ex. targetDQN.model.weights = DQN.model.weights (syntax given here is for representation purpose only)\n",
    "\n",
    "## Initialize Replay Buffer\n",
    "###################################\n",
    "## Populate the initial experience buffer\n",
    "###################################\n",
    "\n",
    "replay = Replay(max_size=10000)\n",
    "replay.initialize(init_length=1000, envir=env)"
   ]
  },
  {
   "cell_type": "markdown",
   "metadata": {},
   "source": [
    "#### Create a function that solves the above environment using a deep Q network that uses a minibatch strategy.\n",
    "Use the following parameters (these had to be derived empirically - there is generally no trusted way of choosing the right parameter values - i.e. gamma, number of episodes, decay rate, min_epsilon). \n",
    "\n",
    "Generate a graph of the average return per episode every 100 episodes."
   ]
  },
  {
   "cell_type": "code",
   "execution_count": 73,
   "metadata": {},
   "outputs": [
    {
     "name": "stdout",
     "output_type": "stream",
     "text": [
      "(50, 200.0)\n",
      "(100, 13.0)\n",
      "(150, 21.0)\n",
      "(200, 17.0)\n",
      "(250, 31.0)\n",
      "(300, 40.0)\n",
      "(350, 23.0)\n",
      "(400, 37.0)\n",
      "(450, 48.0)\n",
      "(500, 54.0)\n",
      "(550, 84.0)\n",
      "(600, 200.0)\n",
      "(650, 200.0)\n",
      "(700, 200.0)\n",
      "(750, 200.0)\n",
      "(800, 200.0)\n",
      "(850, 200.0)\n",
      "(900, 195.0)\n",
      "(950, 200.0)\n",
      "(1000, 200.0)\n",
      "(1050, 200.0)\n",
      "(1100, 200.0)\n",
      "(1150, 194.0)\n",
      "(1200, 200.0)\n",
      "(1250, 200.0)\n",
      "(1300, 200.0)\n",
      "(1350, 200.0)\n",
      "(1400, 191.0)\n",
      "(1450, 200.0)\n",
      "(1500, 173.0)\n",
      "(1550, 189.0)\n",
      "(1600, 200.0)\n",
      "(1650, 200.0)\n",
      "(1700, 200.0)\n",
      "(1750, 184.0)\n",
      "(1800, 200.0)\n",
      "(1850, 200.0)\n",
      "(1900, 178.0)\n",
      "(1950, 200.0)\n",
      "(2000, 200.0)\n"
     ]
    }
   ],
   "source": [
    "# Runtime parameters\n",
    "num_episodes = 2000            # max number of episodes to learn from\n",
    "gamma = 0.95                   # future reward discount\n",
    "max_steps = 1000                # cut off simulation after this many steps\n",
    "batch_size = 250\n",
    "C = 50\n",
    "\n",
    "# Exploration parameters\n",
    "min_epsilon = 0.001             # minimum exploration probability\n",
    "decay_rate = 5.0/num_episodes    # exponential decay rate for exploration prob\n",
    "returns = np.zeros(num_episodes)\n",
    "\n",
    "for ep in range(0, num_episodes):\n",
    "    epsilon = min_epsilon + (1.0 - min_epsilon)*np.exp(-decay_rate*ep)\n",
    "    state = env.reset()\n",
    "    total_reward = 0.0\n",
    "    while True:\n",
    "    #for step in range(max_steps):\n",
    "        # --> start episode\n",
    "        q_sa = toNp(DQN(toVar(state)))\n",
    "        action = np.argmax(q_sa)\n",
    "        \n",
    "        # explore/exploit and get action using DQN\n",
    "        # binary action space\n",
    "        if np.random.rand()<epsilon:\n",
    "            action = 1-action\n",
    "            \n",
    "        # perform action and record new_state, action, reward\n",
    "        next_state, reward, done, _ = env.step(action)\n",
    "        total_reward += reward\n",
    "        \n",
    "        # populate Replay experience buffer\n",
    "        replay.add_exp(state, action, reward, next_state, done)\n",
    "        \n",
    "        if done:\n",
    "            reward = 1\n",
    "            break\n",
    "        else:\n",
    "            state = next_state\n",
    "        # <-- end episode\n",
    "\n",
    "    returns[ep] = total_reward\n",
    "\n",
    "    # Replay\n",
    "    states, actions, target_qvalues = replay.generate_minibatch(DQN, targetDQN, batch_size, gamma)\n",
    "    \n",
    "    # set targetDQN weights to DQN weights\n",
    "    if (ep+1)%C==0:\n",
    "        print(ep+1, returns[ep])\n",
    "        targetDQN.copyWeights(DQN)\n",
    "    \n",
    "    # update DQN (run one epoch of training per episode with generated minibatch of states and qvalues)\n",
    "    #for i in range(states.shape[0]):\n",
    "    #    DQN.run_optimize(toVar(states[i]), toVar(target_qvalues[i]))\n",
    "    DQN.run_optimize(toVar(states), toVar(target_qvalues), toVar(actions))        "
   ]
  },
  {
   "cell_type": "code",
   "execution_count": 74,
   "metadata": {},
   "outputs": [
    {
     "data": {
      "image/png": "[encoded data removed]",
      "text/plain": [
       "<Figure size 432x288 with 1 Axes>"
      ]
     },
     "metadata": {},
     "output_type": "display_data"
    }
   ],
   "source": [
    "# plot average returns\n",
    "returns_over_100_episodes = []\n",
    "x = []\n",
    "for i in range(0,int(num_episodes/100)):\n",
    "    returns_over_100_episodes.append(sum(returns[100*i:100*(i+1)-1])/100)\n",
    "    x.append((i+1)*100)\n",
    "plt.plot(x,returns_over_100_episodes,'.-r')\n",
    "plt.ylabel('Average Returns per Episode')\n",
    "plt.xlabel('Num of Episodes')\n",
    "plt.show()\n",
    "    "
   ]
  },
  {
   "cell_type": "code",
   "execution_count": 29,
   "metadata": {},
   "outputs": [
    {
     "data": {
      "image/png": "[encoded data removed]",
      "text/plain": [
       "<Figure size 432x288 with 1 Axes>"
      ]
     },
     "metadata": {},
     "output_type": "display_data"
    },
    {
     "name": "stdout",
     "output_type": "stream",
     "text": [
      "{0: 76, 1: 84}\n"
     ]
    },
    {
     "data": {
      "image/png": "[encoded data removed]",
      "text/plain": [
       "<Figure size 432x288 with 1 Axes>"
      ]
     },
     "metadata": {},
     "output_type": "display_data"
    }
   ],
   "source": [
    "# DEMO FINAL NETWORK\n",
    "import matplotlib.pyplot as plt\n",
    "%matplotlib inline\n",
    "from IPython import display\n",
    "\n",
    "def show_state(env, step=0, info=\"\"):\n",
    "    plt.figure(3)\n",
    "    plt.clf()\n",
    "    plt.imshow(env.render(mode='rgb_array'))\n",
    "    plt.axis('off')\n",
    "\n",
    "    display.clear_output(wait=True)\n",
    "    display.display(plt.gcf())\n",
    "\n",
    "\n",
    "env = gym.make('CartPole-v0')\n",
    "env.reset()\n",
    "# Take one random step to get the pole and cart moving\n",
    "state, reward, done, _ = env.step(env.action_space.sample())\n",
    "state = np.reshape(state, [1, state.size])\n",
    "total_reward = 0\n",
    "for i in range(0, max_steps):\n",
    "    #env.render()\n",
    "    show_state(env,i)\n",
    "    \n",
    "    Qs = toNp(DQN(toVar(state)))\n",
    "    # Get action from Q-network\n",
    "    # Qs = output of DQN.model when state is passed in\n",
    "    action = np.argmax(Qs)\n",
    "    \n",
    "    # Take action, get new state and reward\n",
    "    next_state, reward, done, _ = env.step(action)\n",
    "    total_reward += reward\n",
    "\n",
    "    if done:\n",
    "        #env.close()\n",
    "        break\n",
    "    else:\n",
    "        state = np.reshape(next_state, [1, state.size])"
   ]
  },
  {
   "cell_type": "code",
   "execution_count": 27,
   "metadata": {},
   "outputs": [
    {
     "name": "stdout",
     "output_type": "stream",
     "text": [
      "{0: 69, 1: 79}\n"
     ]
    }
   ],
   "source": [
    "print(count)"
   ]
  },
  {
   "cell_type": "code",
   "execution_count": null,
   "metadata": {},
   "outputs": [],
   "source": []
  }
 ],
 "metadata": {
  "anaconda-cloud": {},
  "kernelspec": {
   "display_name": "py2",
   "language": "python",
   "name": "py2"
  },
  "language_info": {
   "codemirror_mode": {
    "name": "ipython",
    "version": 2
   },
   "file_extension": ".py",
   "mimetype": "text/x-python",
   "name": "python",
   "nbconvert_exporter": "python",
   "pygments_lexer": "ipython2",
   "version": "2.7.14"
  },
  "varInspector": {
   "cols": {
    "lenName": 16,
    "lenType": 16,
    "lenVar": 40
   },
   "kernels_config": {
    "python": {
     "delete_cmd_postfix": "",
     "delete_cmd_prefix": "del ",
     "library": "var_list.py",
     "varRefreshCmd": "print(var_dic_list())"
    },
    "r": {
     "delete_cmd_postfix": ") ",
     "delete_cmd_prefix": "rm(",
     "library": "var_list.r",
     "varRefreshCmd": "cat(var_dic_list()) "
    }
   },
   "types_to_exclude": [
    "module",
    "function",
    "builtin_function_or_method",
    "instance",
    "_Feature"
   ],
   "window_display": false
  }
 },
 "nbformat": 4,
 "nbformat_minor": 2
}
