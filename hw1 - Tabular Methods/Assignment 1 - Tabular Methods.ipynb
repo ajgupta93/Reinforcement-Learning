{
 "cells": [
  {
   "cell_type": "markdown",
   "metadata": {},
   "source": [
    "# Assignment 1: Tabular Methods\n",
    "\n",
    "Name: Ajitesh Gupta\n",
    "\n",
    "ID: A53220177"
   ]
  },
  {
   "cell_type": "markdown",
   "metadata": {},
   "source": [
    "This exercise requires you to solve a simple grid-world problem called 'FrozenLake-v0' in OpenAI Gym.  We will solve the problem in two different ways. First we will solve the problem using dynamic programming, thus requiring a model of the system. Second we will do it using model-free temporal difference (Q-Learning). Finally, as a bonus you may also show it learning using a naive approach called hill-climbing. \n",
    "\n",
    "### Required for all \n",
    "#### Set up environment"
   ]
  },
  {
   "cell_type": "code",
   "execution_count": 87,
   "metadata": {},
   "outputs": [],
   "source": [
    "%matplotlib inline\n",
    "import gym\n",
    "import numpy as np\n",
    "from matplotlib import pyplot as plt\n",
    "env = gym.make('FrozenLake-v0')\n",
    "import pandas as pd"
   ]
  },
  {
   "cell_type": "markdown",
   "metadata": {},
   "source": [
    "#### Pre. Test Policy Function\n",
    "Write a function to test a policy. Return the average rate of successful episodes over 100 trials. "
   ]
  },
  {
   "cell_type": "code",
   "execution_count": 88,
   "metadata": {},
   "outputs": [],
   "source": [
    "def testPolicy(env, policy, n=100):\n",
    "    #%% ---> start of code\n",
    "    success = 0\n",
    "    for i in range(n):\n",
    "        obs = env.reset()\n",
    "        done = False\n",
    "        while not done:\n",
    "            obs, rew, done, info = env.step(int(policy[obs]))\n",
    "            if done:\n",
    "                success+= rew\n",
    "                break\n",
    "    percentSuccess = 1.0*success/n\n",
    "    #%% <--- end of code\n",
    "    return percentSuccess"
   ]
  },
  {
   "cell_type": "markdown",
   "metadata": {},
   "source": [
    "## Model-based Learning\n",
    "\n",
    "### 1. Policy Iteration\n",
    "Perform policy iteration on the Frozenlake example. \n",
    "\n",
    "\n",
    "#### 1.1 Find the system model\n",
    "First, model $T(s,a,s')$ and $R(s,a,s')$ over 100000 randomly initializations."
   ]
  },
  {
   "cell_type": "code",
   "execution_count": 90,
   "metadata": {},
   "outputs": [],
   "source": [
    "def learnModel(n=100000):\n",
    "    #%% ---> start of code\n",
    "    nS = env.observation_space.n\n",
    "    nA = env.action_space.n\n",
    "    R = np.zeros((nS,nA,nS))\n",
    "    T = np.zeros((nS,nA,nS))\n",
    "    count = np.ones((nS,nA))\n",
    "    \n",
    "    for i in range(n):\n",
    "        env.reset()\n",
    "        for state in range(nS):\n",
    "            for action in range(nA):\n",
    "                env.env.s = state\n",
    "                new_state, rew, done, info = env.step(action)\n",
    "                R[state,action,new_state] += rew\n",
    "                T[state,action,new_state] += 1.0\n",
    "                count[state,action] += 1.0\n",
    "\n",
    "    for s_i in range(nS):\n",
    "        for a in range(nA):\n",
    "            for s_j in range(nS):\n",
    "                R[s_i,a,s_j] /= max(1,T[s_i,a,s_j])\n",
    "                T[s_i,a,s_j] /= max(count[s_i,a],1)\n",
    "    #%% <--- end of code\n",
    "    return R,T\n",
    "\n",
    "#first learn the model    \n",
    "[R,T] = learnModel(100000)"
   ]
  },
  {
   "cell_type": "markdown",
   "metadata": {},
   "source": [
    "#### 1.2 What does the transition model tell you about the stochastic behavior of actions? What does it tell you about the stochasticity  of the rewards? What would you expect an optimal agent's policy to do?"
   ]
  },
  {
   "cell_type": "markdown",
   "metadata": {},
   "source": [
    "ans: \n",
    "\n",
    "In an ideal cases we would expect the agent to perform the action that it is instructed to perform, but this transition model shows us that that is not the case here. We see that it performs the wrong action with a certain probability. This helps us model a real life situation where agents might not behave as exepcted due to various sources of noise. This leads to more robust learning. \n",
    "\n",
    "The rewards function over here is pretty deterministic and is just objective based so we only get rewards at the end goal state and it is 0 everywhere else. If we were to make the agent go faster towards the goal we could provide small penalty for existence at each time step. This would lead the agent to the final goal faster.\n",
    "\n",
    "The optimal agent's policy should be able to reach the goal state as fast as possible. But it should at the same time try to avoid going near the holes. This is because actions might misfire and hence being near a hole can lead to the hole even if the action did not specify it to go there. This way it would successfully complete the trip from start to end as many times as possible."
   ]
  },
  {
   "cell_type": "markdown",
   "metadata": {},
   "source": [
    "#### 1.3 Write a function for Policy Evaluation"
   ]
  },
  {
   "cell_type": "code",
   "execution_count": 91,
   "metadata": {},
   "outputs": [],
   "source": [
    "#runPolicyEvaluation:\n",
    "def runPolicyEvaluation(policy,V,R,T,discount_factor):\n",
    "    #%% ---> start of code\n",
    "    Vnew = np.zeros_like(V)\n",
    "    for s in range(V.shape[0]):\n",
    "        for sp in range(V.shape[0]):\n",
    "            Vnew[s] += T[s,policy[s],sp] * ( R[s,policy[s],sp] + discount_factor*V[sp] )\n",
    "    #%% <--- end of code\n",
    "    return Vnew\n",
    "\n",
    "def extractPolicy(V, R, T, discount_factor):\n",
    "    nS = len(V)\n",
    "    policy_new = [0]*nS\n",
    "    for s in range(T.shape[0]):\n",
    "        q_sa = np.zeros((4,1))\n",
    "        for a in range(T.shape[1]):\n",
    "            for sp in range(T.shape[2]):\n",
    "                q_sa[a] += T[s,a,sp] * ( R[s,a,sp] + discount_factor*V[sp] )\n",
    "        policy_new[s] = np.argmax(q_sa)\n",
    "    return policy_new"
   ]
  },
  {
   "cell_type": "markdown",
   "metadata": {},
   "source": [
    "#### 1.4 Run Policy iteration.\n",
    "and show a bar graph of successful runs vs iteration on the policy. Use a discount factor of 0.98, and terminate policy  after 40 iterations of policy updates.  Plot the percentSuccesses at every iteration (i.e. the return of the testPolicy function)."
   ]
  },
  {
   "cell_type": "code",
   "execution_count": 92,
   "metadata": {},
   "outputs": [
    {
     "name": "stdout",
     "output_type": "stream",
     "text": [
      "('Policy iteration policy:', [0, 3, 0, 3, 0, 0, 2, 0, 3, 1, 0, 0, 0, 2, 1, 0])\n"
     ]
    },
    {
     "data": {
      "image/png": "[encoded data removed]",
      "text/plain": [
       "<Figure size 432x288 with 1 Axes>"
      ]
     },
     "metadata": {},
     "output_type": "display_data"
    }
   ],
   "source": [
    "#%% ---> start of code\n",
    "env.reset()\n",
    "nS = env.observation_space.n\n",
    "nA = env.action_space.n\n",
    "discount_factor = 0.98\n",
    "policy = np.random.randint(4,size=nS)\n",
    "V = np.zeros(nS)\n",
    "iters = 0\n",
    "percentSuccesses = []\n",
    "while iters<40:\n",
    "    Vnew = runPolicyEvaluation(policy, V, R, T, discount_factor)\n",
    "    policy_new = extractPolicy(Vnew, R, T, discount_factor)\n",
    "    percentSuccesses.append(testPolicy(env,policy_new))\n",
    "    V = Vnew\n",
    "    policy = policy_new\n",
    "    iters += 1\n",
    "#%% <--- end of code\n",
    "    \n",
    "# plot improvement over time\n",
    "plt.figure()\n",
    "plt.bar(np.arange(len(percentSuccesses)), 100*np.array(percentSuccesses), align='center', alpha=0.5)\n",
    "plt.ylabel('% Episodes Successful')\n",
    "plt.xlabel('Iteration') \n",
    "plt.title('Policy Iteration',fontsize=16)  \n",
    "print('Policy iteration policy:', policy)"
   ]
  },
  {
   "cell_type": "markdown",
   "metadata": {},
   "source": [
    "## Model-Free Learning"
   ]
  },
  {
   "cell_type": "markdown",
   "metadata": {},
   "source": [
    "### 2 Q Value-Iteration (Q-Learning)\n",
    "\n",
    "#### 2.1 Set up a Q learning function\n",
    "Set your exploration rate to 1-episode_num/total_num_of_episodes for linear convergence from completely random action selection to a greedy policy. Return a set of policies (at 5%, 10%,...100% of the total number of episodes) so that in the later section you can perform policy evaluation on intermediate Q-tables and show progress."
   ]
  },
  {
   "cell_type": "code",
   "execution_count": 93,
   "metadata": {},
   "outputs": [],
   "source": [
    "def runQLearning(env,learning_rate,discount_factor,num_of_episodes,Q0,explore_type='linear'):\n",
    "    #%% code starts here\n",
    "    #%% code ends here\n",
    "    Q = Q0\n",
    "    Q_saved = [Q0]\n",
    "    stage = int(num_of_episodes/10)\n",
    "    for episode in range(num_of_episodes):\n",
    "        s = env.reset()\n",
    "        while True:\n",
    "            #env.render()\n",
    "            # Exploration rate\n",
    "            if explore_type=='linear':\n",
    "                epsilon = 1 - 1.0*episode/num_of_episodes\n",
    "            elif explore_type=='log':\n",
    "                epsilon = 1000.0/(1000+episode)\n",
    "                \n",
    "            # Epsilon-Greedy policy\n",
    "            max_a = np.argmax(Q[s,:])\n",
    "            if np.random.rand()<1-epsilon:\n",
    "                a = max_a\n",
    "            else:\n",
    "                actions = [i for i in range(env.action_space.n) if i!=max_a]\n",
    "                a = np.random.choice(actions,1)[0]\n",
    "                \n",
    "            # Make a step\n",
    "            s_new, rew, done, info = env.step(a)\n",
    "            \n",
    "            # Update Q-Values\n",
    "            Q[s,a] += learning_rate*(rew + discount_factor*np.max(Q[s_new,:]) - Q[s,a])\n",
    "            \n",
    "            s = s_new\n",
    "            \n",
    "            # Break if reached end state\n",
    "            if done:\n",
    "                break\n",
    "        \n",
    "        # Store models at every 10%\n",
    "        if (episode+1)%stage==0:\n",
    "            Q_saved.append(Q.copy()) #save last Q\n",
    "    return Q_saved\n",
    "\n",
    "def getPolicyFromQ(Q):\n",
    "    policy = np.random.randint(4,size=Q.shape[0])\n",
    "    for state in range(Q.shape[0]):\n",
    "        policy[state] = np.argmax(Q[state,:])\n",
    "    return policy"
   ]
  },
  {
   "cell_type": "markdown",
   "metadata": {},
   "source": [
    "#### 2.1 Perform Q-learning. \n",
    "Show policies during intermediate phases of Q-learning, at 0, 10%, 20%,...,100% of the total episodes during training. Set a learning rate of 0.98 and a discount factor of 0.95. Start with a zero-filled Q-table. Run 10000 episodes. Plot the bar graph of the success rate over time to visualize the improvements to success rate the new policies are providing. "
   ]
  },
  {
   "cell_type": "code",
   "execution_count": 94,
   "metadata": {},
   "outputs": [
    {
     "name": "stdout",
     "output_type": "stream",
     "text": [
      "('Q-learning (linear) policy:', array([0, 3, 0, 3, 0, 0, 0, 0, 3, 1, 0, 0, 0, 2, 1, 0]))\n"
     ]
    },
    {
     "data": {
      "image/png": "[encoded data removed]",
      "text/plain": [
       "<Figure size 432x288 with 1 Axes>"
      ]
     },
     "metadata": {},
     "output_type": "display_data"
    }
   ],
   "source": [
    "#%% ---> start of code\n",
    "nS = env.observation_space.n\n",
    "nA = env.action_space.n\n",
    "Q0 = np.zeros((nS,nA))\n",
    "Qs = runQLearning(env, 0.02, 0.95, 10000, Q0, 'linear')\n",
    "percentSuccesses = []\n",
    "policy = []\n",
    "for Q in Qs:\n",
    "    policy = getPolicyFromQ(Q)\n",
    "    percentSuccesses.append(testPolicy(env,policy))\n",
    "    \n",
    "#%% <--- end of code\n",
    "\n",
    "plt.figure()\n",
    "plt.bar(np.arange(len(percentSuccesses)), 100*np.array(percentSuccesses), align='center', alpha=0.5)\n",
    "plt.ylabel('% Episodes Successful')\n",
    "plt.xlabel('Iterations')\n",
    "plt.title('linear Rate Exploitation', fontsize=16)\n",
    "print('Q-learning (linear) policy:', policy)"
   ]
  },
  {
   "cell_type": "markdown",
   "metadata": {},
   "source": [
    "#### 1.4 Log Rate Exploration\n",
    "\n",
    "Run Q-learning for a log exploration rate, $\\frac{1000}{1000+\\text{episode_num}}$, for 10,000 episodes. Perform policy evaluation and plot the success rate over time. You may find setting Q0 to a random number initialization helps (set it to something very small, i.e. 0.000001\\*rand(), since setting it to zero sets a fixed seed)."
   ]
  },
  {
   "cell_type": "code",
   "execution_count": 95,
   "metadata": {},
   "outputs": [
    {
     "name": "stdout",
     "output_type": "stream",
     "text": [
      "('Q-learning (log) policy:', array([0, 3, 0, 3, 0, 1, 2, 3, 3, 1, 0, 3, 2, 2, 2, 2]))\n"
     ]
    },
    {
     "data": {
      "image/png": "[encoded data removed]",
      "text/plain": [
       "<Figure size 432x288 with 1 Axes>"
      ]
     },
     "metadata": {},
     "output_type": "display_data"
    }
   ],
   "source": [
    "#%% ---> start of code\n",
    "nS = env.observation_space.n\n",
    "nA = env.action_space.n\n",
    "Q0 = 0.000001*np.random.rand(nS,nA)\n",
    "Qs = runQLearning(env, 0.02, 0.95, 10000, Q0, 'log')\n",
    "percentSuccesses = []\n",
    "policy = []\n",
    "for Q in Qs:\n",
    "    policy = getPolicyFromQ(Q)\n",
    "    percentSuccesses.append(testPolicy(env,policy))\n",
    "#%% <--- end of code\n",
    "\n",
    "plt.figure()\n",
    "plt.bar(np.arange(len(percentSuccesses)), 100*np.array(percentSuccesses), align='center', alpha=0.5)\n",
    "plt.ylabel('% Episodes Successful')\n",
    "plt.xlabel('Iterations')\n",
    "plt.title('Log Rate Exploitation', fontsize=16)\n",
    "print('Q-learning (log) policy:', policy)"
   ]
  },
  {
   "cell_type": "markdown",
   "metadata": {
    "collapsed": true
   },
   "source": [
    "### BONUS: Hill Climbing (25%, granted only if Parts 1 and 2 are complete)\n",
    "\n",
    "Demonstrate hill climbing, where your Q values are chosen randomly, and you save improvements, with new Q values to try as $$Q_{test}\\leftarrow Q_{best}+rand(S,A)$$\n",
    "Plot the a bar graph with x-axis labelling the iteration number when an improvement occurred, and y axis as the % of successful episodes. Run on N = 1000 iterations of hill climbing, with 100 episodes per iteration. "
   ]
  },
  {
   "cell_type": "code",
   "execution_count": 96,
   "metadata": {
    "scrolled": true
   },
   "outputs": [
    {
     "name": "stdout",
     "output_type": "stream",
     "text": [
      "(array([3, 3, 2, 3, 0, 2, 2, 1, 2, 1, 0, 0, 2, 2, 2, 2]), ': Hill-climbing policy')\n"
     ]
    },
    {
     "data": {
      "image/png": "[encoded data removed]",
      "text/plain": [
       "<Figure size 432x288 with 1 Axes>"
      ]
     },
     "metadata": {},
     "output_type": "display_data"
    }
   ],
   "source": [
    "#%% ---> start of code\n",
    "nS = env.observation_space.n\n",
    "nA = env.action_space.n\n",
    "Q = np.zeros((nS,nA))\n",
    "improvementsIndex = []\n",
    "percentSuccesses = []\n",
    "best_success = 0.0\n",
    "policy = []\n",
    "\n",
    "for i in range(1000):\n",
    "    randQ = 0.000001*np.random.rand(nS,nA)\n",
    "    Qtest = Q + randQ\n",
    "    \n",
    "    test_policy = getPolicyFromQ(Qtest)\n",
    "    test_success = testPolicy(env, test_policy)\n",
    "\n",
    "    if test_success>best_success:\n",
    "        best_success = test_success\n",
    "        Q = Qtest\n",
    "        policy = test_policy\n",
    "        improvementsIndex.append(i)\n",
    "        percentSuccesses.append(test_success)\n",
    "\n",
    "#%% <--- end of code\n",
    "\n",
    "\n",
    "plt.figure()\n",
    "plt.bar(np.arange(len(improvementsIndex)), 100*np.array(percentSuccesses), align='center', alpha=0.5)\n",
    "plt.xticks(np.arange(len(improvementsIndex)),improvementsIndex) \n",
    "plt.ylabel('% Episodes Successful')\n",
    "plt.xlabel('Iteration')\n",
    "plt.title('Hill Climbing',fontsize=16)\n",
    "print(policy,': Hill-climbing policy')\n"
   ]
  },
  {
   "cell_type": "code",
   "execution_count": null,
   "metadata": {},
   "outputs": [],
   "source": []
  }
 ],
 "metadata": {
  "kernelspec": {
   "display_name": "py2",
   "language": "python",
   "name": "py2"
  },
  "language_info": {
   "codemirror_mode": {
    "name": "ipython",
    "version": 2
   },
   "file_extension": ".py",
   "mimetype": "text/x-python",
   "name": "python",
   "nbconvert_exporter": "python",
   "pygments_lexer": "ipython2",
   "version": "2.7.14"
  },
  "varInspector": {
   "cols": {
    "lenName": 16,
    "lenType": 16,
    "lenVar": 40
   },
   "kernels_config": {
    "python": {
     "delete_cmd_postfix": "",
     "delete_cmd_prefix": "del ",
     "library": "var_list.py",
     "varRefreshCmd": "print(var_dic_list())"
    },
    "r": {
     "delete_cmd_postfix": ") ",
     "delete_cmd_prefix": "rm(",
     "library": "var_list.r",
     "varRefreshCmd": "cat(var_dic_list()) "
    }
   },
   "types_to_exclude": [
    "module",
    "function",
    "builtin_function_or_method",
    "instance",
    "_Feature"
   ],
   "window_display": false
  }
 },
 "nbformat": 4,
 "nbformat_minor": 2
}
